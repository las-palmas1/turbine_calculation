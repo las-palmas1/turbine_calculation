{
 "cells": [
  {
   "cell_type": "code",
   "execution_count": 238,
   "metadata": {
    "collapsed": false
   },
   "outputs": [],
   "source": [
    "from cycle_calculation.gas_turbine_engines import TV7_117\n",
    "from gas import Air, KeroseneCombustionProducts\n",
    "import numpy as np\n",
    "import pandas as pd\n",
    "%matplotlib inline"
   ]
  },
  {
   "cell_type": "code",
   "execution_count": 239,
   "metadata": {
    "collapsed": false
   },
   "outputs": [],
   "source": [
    "my_engine = TV7_117()"
   ]
  },
  {
   "cell_type": "markdown",
   "metadata": {},
   "source": [
    "# Исходные данные и задаваемые параметры"
   ]
  },
  {
   "cell_type": "markdown",
   "metadata": {},
   "source": [
    "Мощность турбины:"
   ]
  },
  {
   "cell_type": "code",
   "execution_count": 240,
   "metadata": {
    "collapsed": false
   },
   "outputs": [],
   "source": [
    "my_engine.N_e = 2.0687e6"
   ]
  },
  {
   "cell_type": "markdown",
   "metadata": {},
   "source": [
    "Температура на выходе из камеры сгорания:"
   ]
  },
  {
   "cell_type": "code",
   "execution_count": 241,
   "metadata": {
    "collapsed": false
   },
   "outputs": [],
   "source": [
    "my_engine.T_comb_stag = 1463.5"
   ]
  },
  {
   "cell_type": "markdown",
   "metadata": {},
   "source": [
    "Параметры атмосферы:"
   ]
  },
  {
   "cell_type": "code",
   "execution_count": 242,
   "metadata": {
    "collapsed": false
   },
   "outputs": [],
   "source": [
    "my_engine.T_a = 288\n",
    "my_engine.p_a = 0.10133e6"
   ]
  },
  {
   "cell_type": "markdown",
   "metadata": {},
   "source": [
    "Параметры топлива:"
   ]
  },
  {
   "cell_type": "code",
   "execution_count": 243,
   "metadata": {
    "collapsed": false
   },
   "outputs": [],
   "source": [
    "my_engine.Q_n = 43600e3\n",
    "my_engine.l0 = 14.61"
   ]
  },
  {
   "cell_type": "markdown",
   "metadata": {},
   "source": [
    "Число Маха:"
   ]
  },
  {
   "cell_type": "code",
   "execution_count": 244,
   "metadata": {
    "collapsed": false
   },
   "outputs": [],
   "source": [
    "my_engine.M_v = 0"
   ]
  },
  {
   "cell_type": "markdown",
   "metadata": {},
   "source": [
    "Коэффициент полноты горения:"
   ]
  },
  {
   "cell_type": "code",
   "execution_count": 245,
   "metadata": {
    "collapsed": false
   },
   "outputs": [],
   "source": [
    "my_engine.eta_comb = 0.98"
   ]
  },
  {
   "cell_type": "markdown",
   "metadata": {},
   "source": [
    "Коэффициент сохранения полного давления в камере сгорания:"
   ]
  },
  {
   "cell_type": "code",
   "execution_count": 246,
   "metadata": {
    "collapsed": false
   },
   "outputs": [],
   "source": [
    "my_engine.sigma_comb = 0.961"
   ]
  },
  {
   "cell_type": "markdown",
   "metadata": {},
   "source": [
    "Политропический КПД компрессора:"
   ]
  },
  {
   "cell_type": "code",
   "execution_count": 247,
   "metadata": {
    "collapsed": false
   },
   "outputs": [],
   "source": [
    "my_engine.eta_comp_stag_p = 0.91"
   ]
  },
  {
   "cell_type": "markdown",
   "metadata": {},
   "source": [
    "Политропический КПД турбины компрессора:"
   ]
  },
  {
   "cell_type": "code",
   "execution_count": 248,
   "metadata": {
    "collapsed": false
   },
   "outputs": [],
   "source": [
    "my_engine.eta_comp_turb_stag_p = 0.905"
   ]
  },
  {
   "cell_type": "markdown",
   "metadata": {},
   "source": [
    "Политропический КПД силовой турбины:"
   ]
  },
  {
   "cell_type": "code",
   "execution_count": 249,
   "metadata": {
    "collapsed": false
   },
   "outputs": [],
   "source": [
    "my_engine.eta_power_turb_stag_p = 0.905"
   ]
  },
  {
   "cell_type": "markdown",
   "metadata": {},
   "source": [
    "Механический КПД:"
   ]
  },
  {
   "cell_type": "code",
   "execution_count": 250,
   "metadata": {
    "collapsed": false
   },
   "outputs": [],
   "source": [
    "my_engine.eta_m = 0.99"
   ]
  },
  {
   "cell_type": "markdown",
   "metadata": {},
   "source": [
    "КПД редуктора:"
   ]
  },
  {
   "cell_type": "code",
   "execution_count": 251,
   "metadata": {
    "collapsed": false
   },
   "outputs": [],
   "source": [
    "my_engine.eta_r = 0.985"
   ]
  },
  {
   "cell_type": "markdown",
   "metadata": {},
   "source": [
    "Коэффициент сохранения полного давления входного устройства:"
   ]
  },
  {
   "cell_type": "code",
   "execution_count": 252,
   "metadata": {
    "collapsed": false
   },
   "outputs": [],
   "source": [
    "my_engine.sigma_in = 0.995"
   ]
  },
  {
   "cell_type": "markdown",
   "metadata": {},
   "source": [
    "Коэффициент сохранения полного давления выходного устройства:"
   ]
  },
  {
   "cell_type": "code",
   "execution_count": 253,
   "metadata": {
    "collapsed": false
   },
   "outputs": [],
   "source": [
    "my_engine.sigma_out = 0.995"
   ]
  },
  {
   "cell_type": "markdown",
   "metadata": {},
   "source": [
    "Отноcительный расход воздуха через лабиринтные уплотнения:"
   ]
  },
  {
   "cell_type": "code",
   "execution_count": 254,
   "metadata": {
    "collapsed": false
   },
   "outputs": [],
   "source": [
    "my_engine.g_outflow = 0.01"
   ]
  },
  {
   "cell_type": "markdown",
   "metadata": {},
   "source": [
    "Относительный расход воздуха на охлаждение:"
   ]
  },
  {
   "cell_type": "code",
   "execution_count": 255,
   "metadata": {
    "collapsed": false
   },
   "outputs": [],
   "source": [
    "my_engine.g_cooling = 0.18"
   ]
  },
  {
   "cell_type": "markdown",
   "metadata": {},
   "source": [
    "Относительный расход возвращаемого воздуха:"
   ]
  },
  {
   "cell_type": "code",
   "execution_count": 256,
   "metadata": {
    "collapsed": false
   },
   "outputs": [],
   "source": [
    "my_engine.g_return = 0.02"
   ]
  },
  {
   "cell_type": "markdown",
   "metadata": {},
   "source": [
    "Рабочее тело компрессора:"
   ]
  },
  {
   "cell_type": "code",
   "execution_count": 257,
   "metadata": {
    "collapsed": false
   },
   "outputs": [],
   "source": [
    "my_engine.comp_work_fluid = Air()"
   ]
  },
  {
   "cell_type": "markdown",
   "metadata": {},
   "source": [
    "Рабочее тело турбины:"
   ]
  },
  {
   "cell_type": "code",
   "execution_count": 258,
   "metadata": {
    "collapsed": false
   },
   "outputs": [],
   "source": [
    "my_engine.turb_work_fluid = KeroseneCombustionProducts()"
   ]
  },
  {
   "cell_type": "markdown",
   "metadata": {},
   "source": [
    "Степень повышения давления компрессора:"
   ]
  },
  {
   "cell_type": "code",
   "execution_count": 259,
   "metadata": {
    "collapsed": false
   },
   "outputs": [],
   "source": [
    "my_engine.pi_comp_stag = np.array([6, 9, 12, 15, 18, 21, 24, 27])"
   ]
  },
  {
   "cell_type": "markdown",
   "metadata": {},
   "source": [
    "Приведенная скорость на выходе их выходного устройства:"
   ]
  },
  {
   "cell_type": "code",
   "execution_count": 260,
   "metadata": {
    "collapsed": false
   },
   "outputs": [],
   "source": [
    "my_engine.lam_out = 0.05"
   ]
  },
  {
   "cell_type": "markdown",
   "metadata": {},
   "source": [
    "# Результаты расчета различных элементов двигателя"
   ]
  },
  {
   "cell_type": "markdown",
   "metadata": {},
   "source": [
    "Результаты расчета компрессора:"
   ]
  },
  {
   "cell_type": "code",
   "execution_count": 261,
   "metadata": {
    "collapsed": false
   },
   "outputs": [
    {
     "data": {
      "text/html": [
       "<div>\n",
       "<table border=\"1\" class=\"dataframe\">\n",
       "  <thead>\n",
       "    <tr style=\"text-align: right;\">\n",
       "      <th></th>\n",
       "      <th>L_comp</th>\n",
       "      <th>T_out_stag</th>\n",
       "      <th>c_p_air</th>\n",
       "      <th>eta_comp_stag</th>\n",
       "      <th>k_air</th>\n",
       "      <th>p_out_stag</th>\n",
       "    </tr>\n",
       "  </thead>\n",
       "  <tbody>\n",
       "    <tr>\n",
       "      <th>0</th>\n",
       "      <td>218000.0</td>\n",
       "      <td>504.1</td>\n",
       "      <td>1010.7</td>\n",
       "      <td>0.8854</td>\n",
       "      <td>1.3973</td>\n",
       "      <td>605000.0</td>\n",
       "    </tr>\n",
       "    <tr>\n",
       "      <th>1</th>\n",
       "      <td>287000.0</td>\n",
       "      <td>570.8</td>\n",
       "      <td>1014.0</td>\n",
       "      <td>0.8795</td>\n",
       "      <td>1.3955</td>\n",
       "      <td>907000.0</td>\n",
       "    </tr>\n",
       "    <tr>\n",
       "      <th>2</th>\n",
       "      <td>341000.0</td>\n",
       "      <td>623.0</td>\n",
       "      <td>1016.7</td>\n",
       "      <td>0.8752</td>\n",
       "      <td>1.3941</td>\n",
       "      <td>1210000.0</td>\n",
       "    </tr>\n",
       "    <tr>\n",
       "      <th>3</th>\n",
       "      <td>386000.0</td>\n",
       "      <td>666.5</td>\n",
       "      <td>1018.9</td>\n",
       "      <td>0.8719</td>\n",
       "      <td>1.3929</td>\n",
       "      <td>1512000.0</td>\n",
       "    </tr>\n",
       "    <tr>\n",
       "      <th>4</th>\n",
       "      <td>424000.0</td>\n",
       "      <td>704.2</td>\n",
       "      <td>1019.8</td>\n",
       "      <td>0.8692</td>\n",
       "      <td>1.3924</td>\n",
       "      <td>1815000.0</td>\n",
       "    </tr>\n",
       "    <tr>\n",
       "      <th>5</th>\n",
       "      <td>459000.0</td>\n",
       "      <td>736.3</td>\n",
       "      <td>1022.8</td>\n",
       "      <td>0.8669</td>\n",
       "      <td>1.3908</td>\n",
       "      <td>2117000.0</td>\n",
       "    </tr>\n",
       "    <tr>\n",
       "      <th>6</th>\n",
       "      <td>489000.0</td>\n",
       "      <td>765.1</td>\n",
       "      <td>1025.5</td>\n",
       "      <td>0.8650</td>\n",
       "      <td>1.3894</td>\n",
       "      <td>2420000.0</td>\n",
       "    </tr>\n",
       "    <tr>\n",
       "      <th>7</th>\n",
       "      <td>517000.0</td>\n",
       "      <td>791.1</td>\n",
       "      <td>1027.9</td>\n",
       "      <td>0.8633</td>\n",
       "      <td>1.3881</td>\n",
       "      <td>2722000.0</td>\n",
       "    </tr>\n",
       "  </tbody>\n",
       "</table>\n",
       "</div>"
      ],
      "text/plain": [
       "     L_comp  T_out_stag  c_p_air  eta_comp_stag   k_air  p_out_stag\n",
       "0  218000.0       504.1   1010.7         0.8854  1.3973    605000.0\n",
       "1  287000.0       570.8   1014.0         0.8795  1.3955    907000.0\n",
       "2  341000.0       623.0   1016.7         0.8752  1.3941   1210000.0\n",
       "3  386000.0       666.5   1018.9         0.8719  1.3929   1512000.0\n",
       "4  424000.0       704.2   1019.8         0.8692  1.3924   1815000.0\n",
       "5  459000.0       736.3   1022.8         0.8669  1.3908   2117000.0\n",
       "6  489000.0       765.1   1025.5         0.8650  1.3894   2420000.0\n",
       "7  517000.0       791.1   1027.9         0.8633  1.3881   2722000.0"
      ]
     },
     "execution_count": 261,
     "metadata": {},
     "output_type": "execute_result"
    }
   ],
   "source": [
    "my_engine.compressor.output.output_frame.round({'L_comp': -3, 'T_out_stag': 1, 'c_p_air': 1, 'eta_comp_stag': 4, 'k_air': 4, \n",
    "                                                'p_out_stag': -3})"
   ]
  },
  {
   "cell_type": "markdown",
   "metadata": {},
   "source": [
    "Результаты расчета камеры горения:"
   ]
  },
  {
   "cell_type": "code",
   "execution_count": 262,
   "metadata": {
    "collapsed": false
   },
   "outputs": [
    {
     "data": {
      "text/html": [
       "<div>\n",
       "<table border=\"1\" class=\"dataframe\">\n",
       "  <thead>\n",
       "    <tr style=\"text-align: right;\">\n",
       "      <th></th>\n",
       "      <th>alpha</th>\n",
       "      <th>g_fuel</th>\n",
       "      <th>g_gas</th>\n",
       "      <th>p_out_stag</th>\n",
       "    </tr>\n",
       "  </thead>\n",
       "  <tbody>\n",
       "    <tr>\n",
       "      <th>0</th>\n",
       "      <td>2.43</td>\n",
       "      <td>0.0281</td>\n",
       "      <td>0.8528</td>\n",
       "      <td>581000.0</td>\n",
       "    </tr>\n",
       "    <tr>\n",
       "      <th>1</th>\n",
       "      <td>2.62</td>\n",
       "      <td>0.0262</td>\n",
       "      <td>0.8512</td>\n",
       "      <td>872000.0</td>\n",
       "    </tr>\n",
       "    <tr>\n",
       "      <th>2</th>\n",
       "      <td>2.78</td>\n",
       "      <td>0.0246</td>\n",
       "      <td>0.8500</td>\n",
       "      <td>1163000.0</td>\n",
       "    </tr>\n",
       "    <tr>\n",
       "      <th>3</th>\n",
       "      <td>2.93</td>\n",
       "      <td>0.0234</td>\n",
       "      <td>0.8489</td>\n",
       "      <td>1453000.0</td>\n",
       "    </tr>\n",
       "    <tr>\n",
       "      <th>4</th>\n",
       "      <td>3.08</td>\n",
       "      <td>0.0223</td>\n",
       "      <td>0.8480</td>\n",
       "      <td>1744000.0</td>\n",
       "    </tr>\n",
       "    <tr>\n",
       "      <th>5</th>\n",
       "      <td>3.21</td>\n",
       "      <td>0.0213</td>\n",
       "      <td>0.8473</td>\n",
       "      <td>2035000.0</td>\n",
       "    </tr>\n",
       "    <tr>\n",
       "      <th>6</th>\n",
       "      <td>3.34</td>\n",
       "      <td>0.0205</td>\n",
       "      <td>0.8466</td>\n",
       "      <td>2325000.0</td>\n",
       "    </tr>\n",
       "    <tr>\n",
       "      <th>7</th>\n",
       "      <td>3.47</td>\n",
       "      <td>0.0197</td>\n",
       "      <td>0.8460</td>\n",
       "      <td>2616000.0</td>\n",
       "    </tr>\n",
       "  </tbody>\n",
       "</table>\n",
       "</div>"
      ],
      "text/plain": [
       "   alpha  g_fuel   g_gas  p_out_stag\n",
       "0   2.43  0.0281  0.8528    581000.0\n",
       "1   2.62  0.0262  0.8512    872000.0\n",
       "2   2.78  0.0246  0.8500   1163000.0\n",
       "3   2.93  0.0234  0.8489   1453000.0\n",
       "4   3.08  0.0223  0.8480   1744000.0\n",
       "5   3.21  0.0213  0.8473   2035000.0\n",
       "6   3.34  0.0205  0.8466   2325000.0\n",
       "7   3.47  0.0197  0.8460   2616000.0"
      ]
     },
     "execution_count": 262,
     "metadata": {},
     "output_type": "execute_result"
    }
   ],
   "source": [
    "my_engine.combustion_chamber.output.output_frame.round({'alpha': 2, 'g_fuel': 4, 'g_gas': 4, 'p_out_stag': -3})"
   ]
  },
  {
   "cell_type": "markdown",
   "metadata": {},
   "source": [
    "Результаты расчета турбины компрессора:"
   ]
  },
  {
   "cell_type": "code",
   "execution_count": 263,
   "metadata": {
    "collapsed": false
   },
   "outputs": [
    {
     "data": {
      "text/html": [
       "<div>\n",
       "<table border=\"1\" class=\"dataframe\">\n",
       "  <thead>\n",
       "    <tr style=\"text-align: right;\">\n",
       "      <th></th>\n",
       "      <th>H_turb_stag</th>\n",
       "      <th>L_turb</th>\n",
       "      <th>T_out_stag</th>\n",
       "      <th>c_p_gas</th>\n",
       "      <th>eta_turb_stag</th>\n",
       "      <th>k_gas</th>\n",
       "      <th>p_out_stag</th>\n",
       "      <th>pi_turb_stag</th>\n",
       "    </tr>\n",
       "  </thead>\n",
       "  <tbody>\n",
       "    <tr>\n",
       "      <th>0</th>\n",
       "      <td>284000.0</td>\n",
       "      <td>259000.0</td>\n",
       "      <td>1255.0</td>\n",
       "      <td>1241.7</td>\n",
       "      <td>0.9121</td>\n",
       "      <td>1.301</td>\n",
       "      <td>279000.0</td>\n",
       "      <td>2.082</td>\n",
       "    </tr>\n",
       "    <tr>\n",
       "      <th>1</th>\n",
       "      <td>372000.0</td>\n",
       "      <td>340000.0</td>\n",
       "      <td>1187.0</td>\n",
       "      <td>1229.7</td>\n",
       "      <td>0.9146</td>\n",
       "      <td>1.305</td>\n",
       "      <td>324000.0</td>\n",
       "      <td>2.694</td>\n",
       "    </tr>\n",
       "    <tr>\n",
       "      <th>2</th>\n",
       "      <td>442000.0</td>\n",
       "      <td>405000.0</td>\n",
       "      <td>1132.0</td>\n",
       "      <td>1220.3</td>\n",
       "      <td>0.9167</td>\n",
       "      <td>1.308</td>\n",
       "      <td>348000.0</td>\n",
       "      <td>3.340</td>\n",
       "    </tr>\n",
       "    <tr>\n",
       "      <th>3</th>\n",
       "      <td>499000.0</td>\n",
       "      <td>459000.0</td>\n",
       "      <td>1085.0</td>\n",
       "      <td>1212.5</td>\n",
       "      <td>0.9186</td>\n",
       "      <td>1.311</td>\n",
       "      <td>360000.0</td>\n",
       "      <td>4.033</td>\n",
       "    </tr>\n",
       "    <tr>\n",
       "      <th>4</th>\n",
       "      <td>549000.0</td>\n",
       "      <td>506000.0</td>\n",
       "      <td>1044.0</td>\n",
       "      <td>1205.8</td>\n",
       "      <td>0.9202</td>\n",
       "      <td>1.313</td>\n",
       "      <td>365000.0</td>\n",
       "      <td>4.782</td>\n",
       "    </tr>\n",
       "    <tr>\n",
       "      <th>5</th>\n",
       "      <td>593000.0</td>\n",
       "      <td>547000.0</td>\n",
       "      <td>1008.0</td>\n",
       "      <td>1199.9</td>\n",
       "      <td>0.9217</td>\n",
       "      <td>1.315</td>\n",
       "      <td>364000.0</td>\n",
       "      <td>5.588</td>\n",
       "    </tr>\n",
       "    <tr>\n",
       "      <th>6</th>\n",
       "      <td>632000.0</td>\n",
       "      <td>584000.0</td>\n",
       "      <td>975.0</td>\n",
       "      <td>1194.6</td>\n",
       "      <td>0.9231</td>\n",
       "      <td>1.317</td>\n",
       "      <td>360000.0</td>\n",
       "      <td>6.463</td>\n",
       "    </tr>\n",
       "    <tr>\n",
       "      <th>7</th>\n",
       "      <td>668000.0</td>\n",
       "      <td>618000.0</td>\n",
       "      <td>945.0</td>\n",
       "      <td>1189.9</td>\n",
       "      <td>0.9244</td>\n",
       "      <td>1.318</td>\n",
       "      <td>353000.0</td>\n",
       "      <td>7.414</td>\n",
       "    </tr>\n",
       "  </tbody>\n",
       "</table>\n",
       "</div>"
      ],
      "text/plain": [
       "   H_turb_stag    L_turb  T_out_stag  c_p_gas  eta_turb_stag  k_gas  \\\n",
       "0     284000.0  259000.0      1255.0   1241.7         0.9121  1.301   \n",
       "1     372000.0  340000.0      1187.0   1229.7         0.9146  1.305   \n",
       "2     442000.0  405000.0      1132.0   1220.3         0.9167  1.308   \n",
       "3     499000.0  459000.0      1085.0   1212.5         0.9186  1.311   \n",
       "4     549000.0  506000.0      1044.0   1205.8         0.9202  1.313   \n",
       "5     593000.0  547000.0      1008.0   1199.9         0.9217  1.315   \n",
       "6     632000.0  584000.0       975.0   1194.6         0.9231  1.317   \n",
       "7     668000.0  618000.0       945.0   1189.9         0.9244  1.318   \n",
       "\n",
       "   p_out_stag  pi_turb_stag  \n",
       "0    279000.0         2.082  \n",
       "1    324000.0         2.694  \n",
       "2    348000.0         3.340  \n",
       "3    360000.0         4.033  \n",
       "4    365000.0         4.782  \n",
       "5    364000.0         5.588  \n",
       "6    360000.0         6.463  \n",
       "7    353000.0         7.414  "
      ]
     },
     "execution_count": 263,
     "metadata": {},
     "output_type": "execute_result"
    }
   ],
   "source": [
    "my_engine.compressor_turbine.output.output_frame.round({'H_turb_stag': -3, 'L_turb': -3, 'T_out_stag': 0, 'c_p_gas': 1, \n",
    "                                                       'eta_turb_stag': 4, 'k_gas': 3, 'p_out_stag': -3, 'pi_turb_stag': 3})"
   ]
  },
  {
   "cell_type": "markdown",
   "metadata": {},
   "source": [
    "Результаты расчета силовой турбины:"
   ]
  },
  {
   "cell_type": "code",
   "execution_count": 264,
   "metadata": {
    "collapsed": false
   },
   "outputs": [
    {
     "data": {
      "text/html": [
       "<div>\n",
       "<table border=\"1\" class=\"dataframe\">\n",
       "  <thead>\n",
       "    <tr style=\"text-align: right;\">\n",
       "      <th></th>\n",
       "      <th>H_turb_stag</th>\n",
       "      <th>L_turb</th>\n",
       "      <th>T_out_stag</th>\n",
       "      <th>c_p_gas</th>\n",
       "      <th>eta_turb_stag</th>\n",
       "      <th>k_gas</th>\n",
       "      <th>pi_turb_stag</th>\n",
       "    </tr>\n",
       "  </thead>\n",
       "  <tbody>\n",
       "    <tr>\n",
       "      <th>0</th>\n",
       "      <td>324000.0</td>\n",
       "      <td>293000.0</td>\n",
       "      <td>1009.0</td>\n",
       "      <td>1190.1</td>\n",
       "      <td>0.9150</td>\n",
       "      <td>1.318</td>\n",
       "      <td>2.756</td>\n",
       "    </tr>\n",
       "    <tr>\n",
       "      <th>1</th>\n",
       "      <td>345000.0</td>\n",
       "      <td>310000.0</td>\n",
       "      <td>922.0</td>\n",
       "      <td>1169.0</td>\n",
       "      <td>0.9165</td>\n",
       "      <td>1.326</td>\n",
       "      <td>3.194</td>\n",
       "    </tr>\n",
       "    <tr>\n",
       "      <th>2</th>\n",
       "      <td>346000.0</td>\n",
       "      <td>309000.0</td>\n",
       "      <td>864.0</td>\n",
       "      <td>1153.8</td>\n",
       "      <td>0.9173</td>\n",
       "      <td>1.332</td>\n",
       "      <td>3.436</td>\n",
       "    </tr>\n",
       "    <tr>\n",
       "      <th>3</th>\n",
       "      <td>339000.0</td>\n",
       "      <td>302000.0</td>\n",
       "      <td>821.0</td>\n",
       "      <td>1141.8</td>\n",
       "      <td>0.9177</td>\n",
       "      <td>1.336</td>\n",
       "      <td>3.556</td>\n",
       "    </tr>\n",
       "    <tr>\n",
       "      <th>4</th>\n",
       "      <td>328000.0</td>\n",
       "      <td>292000.0</td>\n",
       "      <td>787.0</td>\n",
       "      <td>1131.9</td>\n",
       "      <td>0.9179</td>\n",
       "      <td>1.340</td>\n",
       "      <td>3.599</td>\n",
       "    </tr>\n",
       "    <tr>\n",
       "      <th>5</th>\n",
       "      <td>316000.0</td>\n",
       "      <td>280000.0</td>\n",
       "      <td>759.0</td>\n",
       "      <td>1123.5</td>\n",
       "      <td>0.9179</td>\n",
       "      <td>1.344</td>\n",
       "      <td>3.593</td>\n",
       "    </tr>\n",
       "    <tr>\n",
       "      <th>6</th>\n",
       "      <td>303000.0</td>\n",
       "      <td>268000.0</td>\n",
       "      <td>735.0</td>\n",
       "      <td>1116.1</td>\n",
       "      <td>0.9179</td>\n",
       "      <td>1.347</td>\n",
       "      <td>3.551</td>\n",
       "    </tr>\n",
       "    <tr>\n",
       "      <th>7</th>\n",
       "      <td>290000.0</td>\n",
       "      <td>256000.0</td>\n",
       "      <td>714.0</td>\n",
       "      <td>1109.6</td>\n",
       "      <td>0.9177</td>\n",
       "      <td>1.350</td>\n",
       "      <td>3.482</td>\n",
       "    </tr>\n",
       "  </tbody>\n",
       "</table>\n",
       "</div>"
      ],
      "text/plain": [
       "   H_turb_stag    L_turb  T_out_stag  c_p_gas  eta_turb_stag  k_gas  \\\n",
       "0     324000.0  293000.0      1009.0   1190.1         0.9150  1.318   \n",
       "1     345000.0  310000.0       922.0   1169.0         0.9165  1.326   \n",
       "2     346000.0  309000.0       864.0   1153.8         0.9173  1.332   \n",
       "3     339000.0  302000.0       821.0   1141.8         0.9177  1.336   \n",
       "4     328000.0  292000.0       787.0   1131.9         0.9179  1.340   \n",
       "5     316000.0  280000.0       759.0   1123.5         0.9179  1.344   \n",
       "6     303000.0  268000.0       735.0   1116.1         0.9179  1.347   \n",
       "7     290000.0  256000.0       714.0   1109.6         0.9177  1.350   \n",
       "\n",
       "   pi_turb_stag  \n",
       "0         2.756  \n",
       "1         3.194  \n",
       "2         3.436  \n",
       "3         3.556  \n",
       "4         3.599  \n",
       "5         3.593  \n",
       "6         3.551  \n",
       "7         3.482  "
      ]
     },
     "execution_count": 264,
     "metadata": {},
     "output_type": "execute_result"
    }
   ],
   "source": [
    "my_engine.power_turbine.output.output_frame.round({'H_turb_stag': -3, 'L_turb': -3, 'T_out_stag': 0, 'c_p_gas': 1, \n",
    "                                                   'eta_turb_stag': 4, 'k_gas': 3, 'pi_turb_stag': 3})"
   ]
  },
  {
   "cell_type": "markdown",
   "metadata": {},
   "source": [
    "# Графики зависимостей различных параметров от степени повышения давления в компрессоре"
   ]
  },
  {
   "cell_type": "markdown",
   "metadata": {},
   "source": [
    "Расход воздуха:"
   ]
  },
  {
   "cell_type": "code",
   "execution_count": 265,
   "metadata": {
    "collapsed": false
   },
   "outputs": [
    {
     "data": {
      "image/png": "[encoded data removed]",
      "text/plain": [
       "<matplotlib.figure.Figure at 0x152f8c16550>"
      ]
     },
     "metadata": {},
     "output_type": "display_data"
    }
   ],
   "source": [
    "my_engine.plot(my_engine.G_air, r'$G_в$')"
   ]
  },
  {
   "cell_type": "markdown",
   "metadata": {},
   "source": [
    "Удельный расход топлива:"
   ]
  },
  {
   "cell_type": "code",
   "execution_count": 266,
   "metadata": {
    "collapsed": false
   },
   "outputs": [
    {
     "data": {
      "image/png": "[encoded data removed]",
      "text/plain": [
       "<matplotlib.figure.Figure at 0x152f8bee0b8>"
      ]
     },
     "metadata": {},
     "output_type": "display_data"
    }
   ],
   "source": [
    "my_engine.plot(my_engine.C_e, r'$C_e$')"
   ]
  },
  {
   "cell_type": "markdown",
   "metadata": {},
   "source": [
    "КПД дигателя:"
   ]
  },
  {
   "cell_type": "code",
   "execution_count": 267,
   "metadata": {
    "collapsed": false,
    "scrolled": false
   },
   "outputs": [
    {
     "data": {
      "image/png": "[encoded data removed]",
      "text/plain": [
       "<matplotlib.figure.Figure at 0x152f777b128>"
      ]
     },
     "metadata": {},
     "output_type": "display_data"
    }
   ],
   "source": [
    "my_engine.plot(my_engine.eta_e, r'$\\eta_e$')"
   ]
  },
  {
   "cell_type": "markdown",
   "metadata": {},
   "source": [
    "Оптимальная степень повышения давления в копрессоре по работе:"
   ]
  },
  {
   "cell_type": "code",
   "execution_count": 268,
   "metadata": {
    "collapsed": false
   },
   "outputs": [
    {
     "data": {
      "text/plain": [
       "9.0000010717471586"
      ]
     },
     "execution_count": 268,
     "metadata": {},
     "output_type": "execute_result"
    }
   ],
   "source": [
    "my_engine.pi_comp_stag_L[0]"
   ]
  },
  {
   "cell_type": "markdown",
   "metadata": {},
   "source": [
    "Оптимальная степень повышения давления в компрессоре по экономичности:"
   ]
  },
  {
   "cell_type": "code",
   "execution_count": 269,
   "metadata": {
    "collapsed": false
   },
   "outputs": [
    {
     "data": {
      "text/plain": [
       "20.999997784235891"
      ]
     },
     "execution_count": 269,
     "metadata": {},
     "output_type": "execute_result"
    }
   ],
   "source": [
    "my_engine.pi_comp_stag_eta[0]"
   ]
  },
  {
   "cell_type": "markdown",
   "metadata": {},
   "source": [
    "Инженерный оптимум:"
   ]
  },
  {
   "cell_type": "code",
   "execution_count": 270,
   "metadata": {
    "collapsed": false
   },
   "outputs": [
    {
     "data": {
      "text/plain": [
       "13.199999921118215"
      ]
     },
     "execution_count": 270,
     "metadata": {},
     "output_type": "execute_result"
    }
   ],
   "source": [
    "my_engine.pi_comp_stag_opt[0]"
   ]
  },
  {
   "cell_type": "markdown",
   "metadata": {},
   "source": [
    "# Оптимальные параметры элементов двигателя"
   ]
  },
  {
   "cell_type": "code",
   "execution_count": 271,
   "metadata": {
    "collapsed": false
   },
   "outputs": [],
   "source": [
    "my_engine.pi_comp_stag = my_engine.pi_comp_stag_opt"
   ]
  },
  {
   "cell_type": "markdown",
   "metadata": {},
   "source": [
    "Параметры компрессора:"
   ]
  },
  {
   "cell_type": "code",
   "execution_count": 272,
   "metadata": {
    "collapsed": false
   },
   "outputs": [
    {
     "data": {
      "text/html": [
       "<div>\n",
       "<table border=\"1\" class=\"dataframe\">\n",
       "  <thead>\n",
       "    <tr style=\"text-align: right;\">\n",
       "      <th></th>\n",
       "      <th>L_comp</th>\n",
       "      <th>T_out_stag</th>\n",
       "      <th>c_p_air</th>\n",
       "      <th>eta_comp_stag</th>\n",
       "      <th>k_air</th>\n",
       "      <th>p_out_stag</th>\n",
       "    </tr>\n",
       "  </thead>\n",
       "  <tbody>\n",
       "    <tr>\n",
       "      <th>0</th>\n",
       "      <td>368417.759513</td>\n",
       "      <td>649.895697</td>\n",
       "      <td>1018.021939</td>\n",
       "      <td>0.873165</td>\n",
       "      <td>1.393363</td>\n",
       "      <td>1.330868e+06</td>\n",
       "    </tr>\n",
       "  </tbody>\n",
       "</table>\n",
       "</div>"
      ],
      "text/plain": [
       "          L_comp  T_out_stag      c_p_air  eta_comp_stag     k_air  \\\n",
       "0  368417.759513  649.895697  1018.021939       0.873165  1.393363   \n",
       "\n",
       "     p_out_stag  \n",
       "0  1.330868e+06  "
      ]
     },
     "execution_count": 272,
     "metadata": {},
     "output_type": "execute_result"
    }
   ],
   "source": [
    "my_engine.compressor.output.output_frame"
   ]
  },
  {
   "cell_type": "markdown",
   "metadata": {},
   "source": [
    "Параметры камеры горения:"
   ]
  },
  {
   "cell_type": "code",
   "execution_count": 273,
   "metadata": {
    "collapsed": false
   },
   "outputs": [
    {
     "data": {
      "text/html": [
       "<div>\n",
       "<table border=\"1\" class=\"dataframe\">\n",
       "  <thead>\n",
       "    <tr style=\"text-align: right;\">\n",
       "      <th></th>\n",
       "      <th>alpha</th>\n",
       "      <th>g_fuel</th>\n",
       "      <th>g_gas</th>\n",
       "      <th>p_out_stag</th>\n",
       "    </tr>\n",
       "  </thead>\n",
       "  <tbody>\n",
       "    <tr>\n",
       "      <th>0</th>\n",
       "      <td>2.870344</td>\n",
       "      <td>0.023846</td>\n",
       "      <td>0.849315</td>\n",
       "      <td>1.278964e+06</td>\n",
       "    </tr>\n",
       "  </tbody>\n",
       "</table>\n",
       "</div>"
      ],
      "text/plain": [
       "      alpha    g_fuel     g_gas    p_out_stag\n",
       "0  2.870344  0.023846  0.849315  1.278964e+06"
      ]
     },
     "execution_count": 273,
     "metadata": {},
     "output_type": "execute_result"
    }
   ],
   "source": [
    "my_engine.combustion_chamber.output.output_frame"
   ]
  },
  {
   "cell_type": "markdown",
   "metadata": {},
   "source": [
    "Параметры турбины компрессора:"
   ]
  },
  {
   "cell_type": "code",
   "execution_count": 274,
   "metadata": {
    "collapsed": false
   },
   "outputs": [
    {
     "data": {
      "text/html": [
       "<div>\n",
       "<table border=\"1\" class=\"dataframe\">\n",
       "  <thead>\n",
       "    <tr style=\"text-align: right;\">\n",
       "      <th></th>\n",
       "      <th>H_turb_stag</th>\n",
       "      <th>L_turb</th>\n",
       "      <th>T_out_stag</th>\n",
       "      <th>c_p_gas</th>\n",
       "      <th>eta_turb_stag</th>\n",
       "      <th>k_gas</th>\n",
       "      <th>p_out_stag</th>\n",
       "      <th>pi_turb_stag</th>\n",
       "    </tr>\n",
       "  </thead>\n",
       "  <tbody>\n",
       "    <tr>\n",
       "      <th>0</th>\n",
       "      <td>477359.713436</td>\n",
       "      <td>438163.732516</td>\n",
       "      <td>1102.94373</td>\n",
       "      <td>1215.499197</td>\n",
       "      <td>0.91789</td>\n",
       "      <td>1.309665</td>\n",
       "      <td>341163.453187</td>\n",
       "      <td>3.748832</td>\n",
       "    </tr>\n",
       "  </tbody>\n",
       "</table>\n",
       "</div>"
      ],
      "text/plain": [
       "     H_turb_stag         L_turb  T_out_stag      c_p_gas  eta_turb_stag  \\\n",
       "0  477359.713436  438163.732516  1102.94373  1215.499197        0.91789   \n",
       "\n",
       "      k_gas     p_out_stag  pi_turb_stag  \n",
       "0  1.309665  341163.453187      3.748832  "
      ]
     },
     "execution_count": 274,
     "metadata": {},
     "output_type": "execute_result"
    }
   ],
   "source": [
    "my_engine.compressor_turbine.output.output_frame"
   ]
  },
  {
   "cell_type": "markdown",
   "metadata": {},
   "source": [
    "Параметры силовой турбины:"
   ]
  },
  {
   "cell_type": "code",
   "execution_count": 275,
   "metadata": {
    "collapsed": false
   },
   "outputs": [
    {
     "data": {
      "text/html": [
       "<div>\n",
       "<table border=\"1\" class=\"dataframe\">\n",
       "  <thead>\n",
       "    <tr style=\"text-align: right;\">\n",
       "      <th></th>\n",
       "      <th>H_turb_stag</th>\n",
       "      <th>L_turb</th>\n",
       "      <th>T_out_stag</th>\n",
       "      <th>c_p_gas</th>\n",
       "      <th>eta_turb_stag</th>\n",
       "      <th>k_gas</th>\n",
       "      <th>pi_turb_stag</th>\n",
       "    </tr>\n",
       "  </thead>\n",
       "  <tbody>\n",
       "    <tr>\n",
       "      <th>0</th>\n",
       "      <td>331806.068504</td>\n",
       "      <td>296156.860425</td>\n",
       "      <td>844.793374</td>\n",
       "      <td>1147.226233</td>\n",
       "      <td>0.917155</td>\n",
       "      <td>1.334254</td>\n",
       "      <td>3.366855</td>\n",
       "    </tr>\n",
       "  </tbody>\n",
       "</table>\n",
       "</div>"
      ],
      "text/plain": [
       "     H_turb_stag         L_turb  T_out_stag      c_p_gas  eta_turb_stag  \\\n",
       "0  331806.068504  296156.860425  844.793374  1147.226233       0.917155   \n",
       "\n",
       "      k_gas  pi_turb_stag  \n",
       "0  1.334254      3.366855  "
      ]
     },
     "execution_count": 275,
     "metadata": {},
     "output_type": "execute_result"
    }
   ],
   "source": [
    "my_engine.power_turbine.output.output_frame"
   ]
  },
  {
   "cell_type": "markdown",
   "metadata": {},
   "source": [
    "Сохранение результатов в файл:"
   ]
  },
  {
   "cell_type": "code",
   "execution_count": 276,
   "metadata": {
    "collapsed": false
   },
   "outputs": [],
   "source": [
    "my_engine.save_output()"
   ]
  }
 ],
 "metadata": {
  "kernelspec": {
   "display_name": "Python 3",
   "language": "python",
   "name": "python3"
  },
  "language_info": {
   "codemirror_mode": {
    "name": "ipython",
    "version": 3
   },
   "file_extension": ".py",
   "mimetype": "text/x-python",
   "name": "python",
   "nbconvert_exporter": "python",
   "pygments_lexer": "ipython3",
   "version": "3.5.1"
  }
 },
 "nbformat": 4,
 "nbformat_minor": 0
}
