{
 "cells": [
  {
   "cell_type": "code",
   "execution_count": 1,
   "metadata": {
    "collapsed": false
   },
   "outputs": [],
   "source": [
    "from cycle_calculation.gas_turbine_engines import TV7_117\n",
    "from gas import Air, KeroseneCombustionProducts\n",
    "import numpy as np\n",
    "import pandas as pd\n",
    "import config\n",
    "%matplotlib inline"
   ]
  },
  {
   "cell_type": "code",
   "execution_count": 2,
   "metadata": {
    "collapsed": false
   },
   "outputs": [],
   "source": [
    "my_engine = TV7_117()"
   ]
  },
  {
   "cell_type": "markdown",
   "metadata": {},
   "source": [
    "# Исходные данные и задаваемые параметры"
   ]
  },
  {
   "cell_type": "markdown",
   "metadata": {},
   "source": [
    "Мощность турбины:"
   ]
  },
  {
   "cell_type": "code",
   "execution_count": 3,
   "metadata": {
    "collapsed": false
   },
   "outputs": [],
   "source": [
    "my_engine.N_e = config.N_e"
   ]
  },
  {
   "cell_type": "markdown",
   "metadata": {},
   "source": [
    "Температура на выходе из камеры сгорания:"
   ]
  },
  {
   "cell_type": "code",
   "execution_count": 4,
   "metadata": {
    "collapsed": false
   },
   "outputs": [],
   "source": [
    "my_engine.T_comb_stag = config.T_comb_stag"
   ]
  },
  {
   "cell_type": "markdown",
   "metadata": {},
   "source": [
    "Параметры атмосферы:"
   ]
  },
  {
   "cell_type": "code",
   "execution_count": 5,
   "metadata": {
    "collapsed": false
   },
   "outputs": [],
   "source": [
    "my_engine.T_a = config.T_a\n",
    "my_engine.p_a = config.p_a"
   ]
  },
  {
   "cell_type": "markdown",
   "metadata": {},
   "source": [
    "Параметры топлива:"
   ]
  },
  {
   "cell_type": "code",
   "execution_count": 6,
   "metadata": {
    "collapsed": false
   },
   "outputs": [],
   "source": [
    "my_engine.Q_n = config.Q_n\n",
    "my_engine.l0 = config.l0"
   ]
  },
  {
   "cell_type": "markdown",
   "metadata": {},
   "source": [
    "Число Маха:"
   ]
  },
  {
   "cell_type": "code",
   "execution_count": 7,
   "metadata": {
    "collapsed": false
   },
   "outputs": [],
   "source": [
    "my_engine.M_v = config.M_v"
   ]
  },
  {
   "cell_type": "markdown",
   "metadata": {},
   "source": [
    "Коэффициент полноты горения:"
   ]
  },
  {
   "cell_type": "code",
   "execution_count": 8,
   "metadata": {
    "collapsed": false
   },
   "outputs": [],
   "source": [
    "my_engine.eta_comb = config.eta_comb"
   ]
  },
  {
   "cell_type": "markdown",
   "metadata": {},
   "source": [
    "Коэффициент сохранения полного давления в камере сгорания:"
   ]
  },
  {
   "cell_type": "code",
   "execution_count": 9,
   "metadata": {
    "collapsed": false
   },
   "outputs": [],
   "source": [
    "my_engine.sigma_comb = config.sigma_comb"
   ]
  },
  {
   "cell_type": "markdown",
   "metadata": {},
   "source": [
    "Политропический КПД компрессора:"
   ]
  },
  {
   "cell_type": "code",
   "execution_count": 10,
   "metadata": {
    "collapsed": false
   },
   "outputs": [],
   "source": [
    "my_engine.eta_comp_stag_p = config.eta_comp_stag_p"
   ]
  },
  {
   "cell_type": "markdown",
   "metadata": {},
   "source": [
    "Политропический КПД турбины компрессора:"
   ]
  },
  {
   "cell_type": "code",
   "execution_count": 11,
   "metadata": {
    "collapsed": false
   },
   "outputs": [],
   "source": [
    "my_engine.eta_comp_turb_stag_p = config.eta_comp_turb_stag_p"
   ]
  },
  {
   "cell_type": "markdown",
   "metadata": {},
   "source": [
    "Политропический КПД силовой турбины:"
   ]
  },
  {
   "cell_type": "code",
   "execution_count": 12,
   "metadata": {
    "collapsed": false
   },
   "outputs": [],
   "source": [
    "my_engine.eta_power_turb_stag_p = config.eta_power_turb_stag_p"
   ]
  },
  {
   "cell_type": "markdown",
   "metadata": {},
   "source": [
    "Механический КПД:"
   ]
  },
  {
   "cell_type": "code",
   "execution_count": 13,
   "metadata": {
    "collapsed": false
   },
   "outputs": [],
   "source": [
    "my_engine.eta_m = config.eta_m"
   ]
  },
  {
   "cell_type": "markdown",
   "metadata": {},
   "source": [
    "КПД редуктора:"
   ]
  },
  {
   "cell_type": "code",
   "execution_count": 14,
   "metadata": {
    "collapsed": false
   },
   "outputs": [],
   "source": [
    "my_engine.eta_r = config.eta_r"
   ]
  },
  {
   "cell_type": "markdown",
   "metadata": {},
   "source": [
    "Коэффициент сохранения полного давления входного устройства:"
   ]
  },
  {
   "cell_type": "code",
   "execution_count": 15,
   "metadata": {
    "collapsed": false
   },
   "outputs": [],
   "source": [
    "my_engine.sigma_in = config.sigma_in"
   ]
  },
  {
   "cell_type": "markdown",
   "metadata": {},
   "source": [
    "Коэффициент сохранения полного давления выходного устройства:"
   ]
  },
  {
   "cell_type": "code",
   "execution_count": 16,
   "metadata": {
    "collapsed": false
   },
   "outputs": [],
   "source": [
    "my_engine.sigma_out = config.sigma_out"
   ]
  },
  {
   "cell_type": "markdown",
   "metadata": {},
   "source": [
    "Отноcительный расход воздуха через лабиринтные уплотнения:"
   ]
  },
  {
   "cell_type": "code",
   "execution_count": 17,
   "metadata": {
    "collapsed": false
   },
   "outputs": [],
   "source": [
    "my_engine.g_outflow = config.g_outflow"
   ]
  },
  {
   "cell_type": "markdown",
   "metadata": {},
   "source": [
    "Относительный расход воздуха на охлаждение:"
   ]
  },
  {
   "cell_type": "code",
   "execution_count": 18,
   "metadata": {
    "collapsed": false
   },
   "outputs": [],
   "source": [
    "my_engine.g_cooling = config.g_cooling"
   ]
  },
  {
   "cell_type": "markdown",
   "metadata": {},
   "source": [
    "Относительный расход возвращаемого воздуха:"
   ]
  },
  {
   "cell_type": "code",
   "execution_count": 19,
   "metadata": {
    "collapsed": false
   },
   "outputs": [],
   "source": [
    "my_engine.g_return = config.g_return"
   ]
  },
  {
   "cell_type": "markdown",
   "metadata": {},
   "source": [
    "Степень повышения давления компрессора:"
   ]
  },
  {
   "cell_type": "code",
   "execution_count": 20,
   "metadata": {
    "collapsed": false
   },
   "outputs": [],
   "source": [
    "my_engine.pi_comp_stag = config.pi_comp_stag"
   ]
  },
  {
   "cell_type": "markdown",
   "metadata": {},
   "source": [
    "Приведенная скорость на выходе их выходного устройства:"
   ]
  },
  {
   "cell_type": "code",
   "execution_count": 21,
   "metadata": {
    "collapsed": false
   },
   "outputs": [],
   "source": [
    "my_engine.lam_out = config.lam_out"
   ]
  },
  {
   "cell_type": "markdown",
   "metadata": {},
   "source": [
    "# Результаты расчета различных элементов двигателя"
   ]
  },
  {
   "cell_type": "markdown",
   "metadata": {},
   "source": [
    "Результаты расчета компрессора:"
   ]
  },
  {
   "cell_type": "code",
   "execution_count": 22,
   "metadata": {
    "collapsed": false
   },
   "outputs": [
    {
     "data": {
      "text/html": [
       "<div>\n",
       "<table border=\"1\" class=\"dataframe\">\n",
       "  <thead>\n",
       "    <tr style=\"text-align: right;\">\n",
       "      <th></th>\n",
       "      <th>L_comp</th>\n",
       "      <th>T_out_stag</th>\n",
       "      <th>c_p_air</th>\n",
       "      <th>dk_rel</th>\n",
       "      <th>eta_comp_stag</th>\n",
       "      <th>k_air</th>\n",
       "      <th>k_air_old</th>\n",
       "      <th>p_out_stag</th>\n",
       "    </tr>\n",
       "  </thead>\n",
       "  <tbody>\n",
       "    <tr>\n",
       "      <th>0</th>\n",
       "      <td>222000.0</td>\n",
       "      <td>507.2</td>\n",
       "      <td>1010.9</td>\n",
       "      <td>0.000861</td>\n",
       "      <td>0.8727</td>\n",
       "      <td>1.3973</td>\n",
       "      <td>1.397185</td>\n",
       "      <td>605000.0</td>\n",
       "    </tr>\n",
       "    <tr>\n",
       "      <th>1</th>\n",
       "      <td>291000.0</td>\n",
       "      <td>575.1</td>\n",
       "      <td>1014.3</td>\n",
       "      <td>0.000861</td>\n",
       "      <td>0.8661</td>\n",
       "      <td>1.3954</td>\n",
       "      <td>1.395253</td>\n",
       "      <td>907000.0</td>\n",
       "    </tr>\n",
       "    <tr>\n",
       "      <th>2</th>\n",
       "      <td>346000.0</td>\n",
       "      <td>628.3</td>\n",
       "      <td>1016.9</td>\n",
       "      <td>0.000861</td>\n",
       "      <td>0.8615</td>\n",
       "      <td>1.3939</td>\n",
       "      <td>1.393735</td>\n",
       "      <td>1210000.0</td>\n",
       "    </tr>\n",
       "    <tr>\n",
       "      <th>3</th>\n",
       "      <td>392000.0</td>\n",
       "      <td>672.5</td>\n",
       "      <td>1019.2</td>\n",
       "      <td>0.000861</td>\n",
       "      <td>0.8578</td>\n",
       "      <td>1.3928</td>\n",
       "      <td>1.392468</td>\n",
       "      <td>1512000.0</td>\n",
       "    </tr>\n",
       "    <tr>\n",
       "      <th>4</th>\n",
       "      <td>431000.0</td>\n",
       "      <td>710.8</td>\n",
       "      <td>1020.4</td>\n",
       "      <td>0.000861</td>\n",
       "      <td>0.8548</td>\n",
       "      <td>1.3921</td>\n",
       "      <td>1.391416</td>\n",
       "      <td>1815000.0</td>\n",
       "    </tr>\n",
       "    <tr>\n",
       "      <th>5</th>\n",
       "      <td>466000.0</td>\n",
       "      <td>743.5</td>\n",
       "      <td>1023.5</td>\n",
       "      <td>0.000861</td>\n",
       "      <td>0.8523</td>\n",
       "      <td>1.3904</td>\n",
       "      <td>1.389607</td>\n",
       "      <td>2117000.0</td>\n",
       "    </tr>\n",
       "    <tr>\n",
       "      <th>6</th>\n",
       "      <td>498000.0</td>\n",
       "      <td>772.8</td>\n",
       "      <td>1026.2</td>\n",
       "      <td>0.000861</td>\n",
       "      <td>0.8502</td>\n",
       "      <td>1.3890</td>\n",
       "      <td>1.387984</td>\n",
       "      <td>2420000.0</td>\n",
       "    </tr>\n",
       "    <tr>\n",
       "      <th>7</th>\n",
       "      <td>526000.0</td>\n",
       "      <td>799.4</td>\n",
       "      <td>1028.7</td>\n",
       "      <td>0.000861</td>\n",
       "      <td>0.8483</td>\n",
       "      <td>1.3877</td>\n",
       "      <td>1.386508</td>\n",
       "      <td>2722000.0</td>\n",
       "    </tr>\n",
       "  </tbody>\n",
       "</table>\n",
       "</div>"
      ],
      "text/plain": [
       "     L_comp  T_out_stag  c_p_air    dk_rel  eta_comp_stag   k_air  k_air_old  \\\n",
       "0  222000.0       507.2   1010.9  0.000861         0.8727  1.3973   1.397185   \n",
       "1  291000.0       575.1   1014.3  0.000861         0.8661  1.3954   1.395253   \n",
       "2  346000.0       628.3   1016.9  0.000861         0.8615  1.3939   1.393735   \n",
       "3  392000.0       672.5   1019.2  0.000861         0.8578  1.3928   1.392468   \n",
       "4  431000.0       710.8   1020.4  0.000861         0.8548  1.3921   1.391416   \n",
       "5  466000.0       743.5   1023.5  0.000861         0.8523  1.3904   1.389607   \n",
       "6  498000.0       772.8   1026.2  0.000861         0.8502  1.3890   1.387984   \n",
       "7  526000.0       799.4   1028.7  0.000861         0.8483  1.3877   1.386508   \n",
       "\n",
       "   p_out_stag  \n",
       "0    605000.0  \n",
       "1    907000.0  \n",
       "2   1210000.0  \n",
       "3   1512000.0  \n",
       "4   1815000.0  \n",
       "5   2117000.0  \n",
       "6   2420000.0  \n",
       "7   2722000.0  "
      ]
     },
     "execution_count": 22,
     "metadata": {},
     "output_type": "execute_result"
    }
   ],
   "source": [
    "my_engine.compressor.output.output_frame.round({'L_comp': -3, 'T_out_stag': 1, 'c_p_air': 1, 'eta_comp_stag': 4, 'k_air': 4, \n",
    "                                                'p_out_stag': -3})"
   ]
  },
  {
   "cell_type": "markdown",
   "metadata": {},
   "source": [
    "Результаты расчета камеры горения:"
   ]
  },
  {
   "cell_type": "code",
   "execution_count": 23,
   "metadata": {
    "collapsed": false
   },
   "outputs": [
    {
     "data": {
      "text/html": [
       "<div>\n",
       "<table border=\"1\" class=\"dataframe\">\n",
       "  <thead>\n",
       "    <tr style=\"text-align: right;\">\n",
       "      <th></th>\n",
       "      <th>alpha</th>\n",
       "      <th>g_fuel</th>\n",
       "      <th>g_gas</th>\n",
       "      <th>p_out_stag</th>\n",
       "    </tr>\n",
       "  </thead>\n",
       "  <tbody>\n",
       "    <tr>\n",
       "      <th>0</th>\n",
       "      <td>2.30</td>\n",
       "      <td>0.0297</td>\n",
       "      <td>0.8541</td>\n",
       "      <td>581000.0</td>\n",
       "    </tr>\n",
       "    <tr>\n",
       "      <th>1</th>\n",
       "      <td>2.44</td>\n",
       "      <td>0.0280</td>\n",
       "      <td>0.8527</td>\n",
       "      <td>872000.0</td>\n",
       "    </tr>\n",
       "    <tr>\n",
       "      <th>2</th>\n",
       "      <td>2.56</td>\n",
       "      <td>0.0267</td>\n",
       "      <td>0.8516</td>\n",
       "      <td>1163000.0</td>\n",
       "    </tr>\n",
       "    <tr>\n",
       "      <th>3</th>\n",
       "      <td>2.68</td>\n",
       "      <td>0.0256</td>\n",
       "      <td>0.8507</td>\n",
       "      <td>1453000.0</td>\n",
       "    </tr>\n",
       "    <tr>\n",
       "      <th>4</th>\n",
       "      <td>2.78</td>\n",
       "      <td>0.0246</td>\n",
       "      <td>0.8499</td>\n",
       "      <td>1744000.0</td>\n",
       "    </tr>\n",
       "    <tr>\n",
       "      <th>5</th>\n",
       "      <td>2.88</td>\n",
       "      <td>0.0237</td>\n",
       "      <td>0.8492</td>\n",
       "      <td>2035000.0</td>\n",
       "    </tr>\n",
       "    <tr>\n",
       "      <th>6</th>\n",
       "      <td>2.98</td>\n",
       "      <td>0.0230</td>\n",
       "      <td>0.8486</td>\n",
       "      <td>2325000.0</td>\n",
       "    </tr>\n",
       "    <tr>\n",
       "      <th>7</th>\n",
       "      <td>3.08</td>\n",
       "      <td>0.0223</td>\n",
       "      <td>0.8480</td>\n",
       "      <td>2616000.0</td>\n",
       "    </tr>\n",
       "  </tbody>\n",
       "</table>\n",
       "</div>"
      ],
      "text/plain": [
       "   alpha  g_fuel   g_gas  p_out_stag\n",
       "0   2.30  0.0297  0.8541    581000.0\n",
       "1   2.44  0.0280  0.8527    872000.0\n",
       "2   2.56  0.0267  0.8516   1163000.0\n",
       "3   2.68  0.0256  0.8507   1453000.0\n",
       "4   2.78  0.0246  0.8499   1744000.0\n",
       "5   2.88  0.0237  0.8492   2035000.0\n",
       "6   2.98  0.0230  0.8486   2325000.0\n",
       "7   3.08  0.0223  0.8480   2616000.0"
      ]
     },
     "execution_count": 23,
     "metadata": {},
     "output_type": "execute_result"
    }
   ],
   "source": [
    "my_engine.combustion_chamber.output.output_frame.round({'alpha': 2, 'g_fuel': 4, 'g_gas': 4, 'p_out_stag': -3})"
   ]
  },
  {
   "cell_type": "markdown",
   "metadata": {},
   "source": [
    "Результаты расчета турбины компрессора:"
   ]
  },
  {
   "cell_type": "code",
   "execution_count": 24,
   "metadata": {
    "collapsed": false
   },
   "outputs": [
    {
     "data": {
      "text/html": [
       "<div>\n",
       "<table border=\"1\" class=\"dataframe\">\n",
       "  <thead>\n",
       "    <tr style=\"text-align: right;\">\n",
       "      <th></th>\n",
       "      <th>H_turb_stag</th>\n",
       "      <th>L_turb</th>\n",
       "      <th>T_out_stag</th>\n",
       "      <th>c_p</th>\n",
       "      <th>eta_turb_stag</th>\n",
       "      <th>k</th>\n",
       "      <th>p_out_stag</th>\n",
       "      <th>pi_turb_stag</th>\n",
       "    </tr>\n",
       "  </thead>\n",
       "  <tbody>\n",
       "    <tr>\n",
       "      <th>0</th>\n",
       "      <td>286000.0</td>\n",
       "      <td>262000.0</td>\n",
       "      <td>1253.0</td>\n",
       "      <td>1245.105159</td>\n",
       "      <td>0.9168</td>\n",
       "      <td>1.300092</td>\n",
       "      <td>278000.0</td>\n",
       "      <td>2.094</td>\n",
       "    </tr>\n",
       "    <tr>\n",
       "      <th>1</th>\n",
       "      <td>375000.0</td>\n",
       "      <td>345000.0</td>\n",
       "      <td>1184.0</td>\n",
       "      <td>1233.463385</td>\n",
       "      <td>0.9192</td>\n",
       "      <td>1.303785</td>\n",
       "      <td>321000.0</td>\n",
       "      <td>2.719</td>\n",
       "    </tr>\n",
       "    <tr>\n",
       "      <th>2</th>\n",
       "      <td>446000.0</td>\n",
       "      <td>410000.0</td>\n",
       "      <td>1128.0</td>\n",
       "      <td>1224.306932</td>\n",
       "      <td>0.9212</td>\n",
       "      <td>1.306754</td>\n",
       "      <td>344000.0</td>\n",
       "      <td>3.380</td>\n",
       "    </tr>\n",
       "    <tr>\n",
       "      <th>3</th>\n",
       "      <td>504000.0</td>\n",
       "      <td>465000.0</td>\n",
       "      <td>1081.0</td>\n",
       "      <td>1216.654332</td>\n",
       "      <td>0.9230</td>\n",
       "      <td>1.309280</td>\n",
       "      <td>355000.0</td>\n",
       "      <td>4.092</td>\n",
       "    </tr>\n",
       "    <tr>\n",
       "      <th>4</th>\n",
       "      <td>555000.0</td>\n",
       "      <td>513000.0</td>\n",
       "      <td>1040.0</td>\n",
       "      <td>1210.072292</td>\n",
       "      <td>0.9246</td>\n",
       "      <td>1.311487</td>\n",
       "      <td>359000.0</td>\n",
       "      <td>4.863</td>\n",
       "    </tr>\n",
       "    <tr>\n",
       "      <th>5</th>\n",
       "      <td>599000.0</td>\n",
       "      <td>555000.0</td>\n",
       "      <td>1003.0</td>\n",
       "      <td>1204.260096</td>\n",
       "      <td>0.9260</td>\n",
       "      <td>1.313461</td>\n",
       "      <td>357000.0</td>\n",
       "      <td>5.696</td>\n",
       "    </tr>\n",
       "    <tr>\n",
       "      <th>6</th>\n",
       "      <td>639000.0</td>\n",
       "      <td>592000.0</td>\n",
       "      <td>970.0</td>\n",
       "      <td>1199.037786</td>\n",
       "      <td>0.9274</td>\n",
       "      <td>1.315257</td>\n",
       "      <td>352000.0</td>\n",
       "      <td>6.603</td>\n",
       "    </tr>\n",
       "    <tr>\n",
       "      <th>7</th>\n",
       "      <td>675000.0</td>\n",
       "      <td>627000.0</td>\n",
       "      <td>939.0</td>\n",
       "      <td>1194.285675</td>\n",
       "      <td>0.9286</td>\n",
       "      <td>1.316909</td>\n",
       "      <td>345000.0</td>\n",
       "      <td>7.592</td>\n",
       "    </tr>\n",
       "  </tbody>\n",
       "</table>\n",
       "</div>"
      ],
      "text/plain": [
       "   H_turb_stag    L_turb  T_out_stag          c_p  eta_turb_stag         k  \\\n",
       "0     286000.0  262000.0      1253.0  1245.105159         0.9168  1.300092   \n",
       "1     375000.0  345000.0      1184.0  1233.463385         0.9192  1.303785   \n",
       "2     446000.0  410000.0      1128.0  1224.306932         0.9212  1.306754   \n",
       "3     504000.0  465000.0      1081.0  1216.654332         0.9230  1.309280   \n",
       "4     555000.0  513000.0      1040.0  1210.072292         0.9246  1.311487   \n",
       "5     599000.0  555000.0      1003.0  1204.260096         0.9260  1.313461   \n",
       "6     639000.0  592000.0       970.0  1199.037786         0.9274  1.315257   \n",
       "7     675000.0  627000.0       939.0  1194.285675         0.9286  1.316909   \n",
       "\n",
       "   p_out_stag  pi_turb_stag  \n",
       "0    278000.0         2.094  \n",
       "1    321000.0         2.719  \n",
       "2    344000.0         3.380  \n",
       "3    355000.0         4.092  \n",
       "4    359000.0         4.863  \n",
       "5    357000.0         5.696  \n",
       "6    352000.0         6.603  \n",
       "7    345000.0         7.592  "
      ]
     },
     "execution_count": 24,
     "metadata": {},
     "output_type": "execute_result"
    }
   ],
   "source": [
    "my_engine.compressor_turbine.output.output_frame.round({'H_turb_stag': -3, 'L_turb': -3, 'T_out_stag': 0, 'c_p_gas': 1, \n",
    "                                                       'eta_turb_stag': 4, 'k_gas': 3, 'p_out_stag': -3, 'pi_turb_stag': 3})"
   ]
  },
  {
   "cell_type": "markdown",
   "metadata": {},
   "source": [
    "Результаты расчета силовой турбины:"
   ]
  },
  {
   "cell_type": "code",
   "execution_count": 25,
   "metadata": {
    "collapsed": false
   },
   "outputs": [
    {
     "data": {
      "text/html": [
       "<div>\n",
       "<table border=\"1\" class=\"dataframe\">\n",
       "  <thead>\n",
       "    <tr style=\"text-align: right;\">\n",
       "      <th></th>\n",
       "      <th>H_turb_stag</th>\n",
       "      <th>L_turb</th>\n",
       "      <th>T_out_stag</th>\n",
       "      <th>c_p</th>\n",
       "      <th>eta_turb_stag</th>\n",
       "      <th>k</th>\n",
       "      <th>pi_turb_stag</th>\n",
       "    </tr>\n",
       "  </thead>\n",
       "  <tbody>\n",
       "    <tr>\n",
       "      <th>0</th>\n",
       "      <td>322000.0</td>\n",
       "      <td>293000.0</td>\n",
       "      <td>1007.0</td>\n",
       "      <td>1192.661608</td>\n",
       "      <td>0.9195</td>\n",
       "      <td>1.317477</td>\n",
       "      <td>2.740</td>\n",
       "    </tr>\n",
       "    <tr>\n",
       "      <th>1</th>\n",
       "      <td>341000.0</td>\n",
       "      <td>309000.0</td>\n",
       "      <td>920.0</td>\n",
       "      <td>1171.748452</td>\n",
       "      <td>0.9209</td>\n",
       "      <td>1.324985</td>\n",
       "      <td>3.165</td>\n",
       "    </tr>\n",
       "    <tr>\n",
       "      <th>2</th>\n",
       "      <td>342000.0</td>\n",
       "      <td>308000.0</td>\n",
       "      <td>862.0</td>\n",
       "      <td>1156.616579</td>\n",
       "      <td>0.9216</td>\n",
       "      <td>1.330643</td>\n",
       "      <td>3.395</td>\n",
       "    </tr>\n",
       "    <tr>\n",
       "      <th>3</th>\n",
       "      <td>334000.0</td>\n",
       "      <td>300000.0</td>\n",
       "      <td>819.0</td>\n",
       "      <td>1144.665652</td>\n",
       "      <td>0.9220</td>\n",
       "      <td>1.335252</td>\n",
       "      <td>3.505</td>\n",
       "    </tr>\n",
       "    <tr>\n",
       "      <th>4</th>\n",
       "      <td>323000.0</td>\n",
       "      <td>289000.0</td>\n",
       "      <td>785.0</td>\n",
       "      <td>1134.783521</td>\n",
       "      <td>0.9221</td>\n",
       "      <td>1.339162</td>\n",
       "      <td>3.540</td>\n",
       "    </tr>\n",
       "    <tr>\n",
       "      <th>5</th>\n",
       "      <td>311000.0</td>\n",
       "      <td>277000.0</td>\n",
       "      <td>757.0</td>\n",
       "      <td>1126.334510</td>\n",
       "      <td>0.9221</td>\n",
       "      <td>1.342577</td>\n",
       "      <td>3.525</td>\n",
       "    </tr>\n",
       "    <tr>\n",
       "      <th>6</th>\n",
       "      <td>297000.0</td>\n",
       "      <td>265000.0</td>\n",
       "      <td>733.0</td>\n",
       "      <td>1118.938212</td>\n",
       "      <td>0.9221</td>\n",
       "      <td>1.345625</td>\n",
       "      <td>3.476</td>\n",
       "    </tr>\n",
       "    <tr>\n",
       "      <th>7</th>\n",
       "      <td>283000.0</td>\n",
       "      <td>252000.0</td>\n",
       "      <td>713.0</td>\n",
       "      <td>1112.353212</td>\n",
       "      <td>0.9219</td>\n",
       "      <td>1.348383</td>\n",
       "      <td>3.401</td>\n",
       "    </tr>\n",
       "  </tbody>\n",
       "</table>\n",
       "</div>"
      ],
      "text/plain": [
       "   H_turb_stag    L_turb  T_out_stag          c_p  eta_turb_stag         k  \\\n",
       "0     322000.0  293000.0      1007.0  1192.661608         0.9195  1.317477   \n",
       "1     341000.0  309000.0       920.0  1171.748452         0.9209  1.324985   \n",
       "2     342000.0  308000.0       862.0  1156.616579         0.9216  1.330643   \n",
       "3     334000.0  300000.0       819.0  1144.665652         0.9220  1.335252   \n",
       "4     323000.0  289000.0       785.0  1134.783521         0.9221  1.339162   \n",
       "5     311000.0  277000.0       757.0  1126.334510         0.9221  1.342577   \n",
       "6     297000.0  265000.0       733.0  1118.938212         0.9221  1.345625   \n",
       "7     283000.0  252000.0       713.0  1112.353212         0.9219  1.348383   \n",
       "\n",
       "   pi_turb_stag  \n",
       "0         2.740  \n",
       "1         3.165  \n",
       "2         3.395  \n",
       "3         3.505  \n",
       "4         3.540  \n",
       "5         3.525  \n",
       "6         3.476  \n",
       "7         3.401  "
      ]
     },
     "execution_count": 25,
     "metadata": {},
     "output_type": "execute_result"
    }
   ],
   "source": [
    "my_engine.power_turbine.output.output_frame.round({'H_turb_stag': -3, 'L_turb': -3, 'T_out_stag': 0, 'c_p_gas': 1, \n",
    "                                                   'eta_turb_stag': 4, 'k_gas': 3, 'pi_turb_stag': 3})"
   ]
  },
  {
   "cell_type": "code",
   "execution_count": 26,
   "metadata": {
    "collapsed": false
   },
   "outputs": [
    {
     "data": {
      "text/html": [
       "<div>\n",
       "<table border=\"1\" class=\"dataframe\">\n",
       "  <thead>\n",
       "    <tr style=\"text-align: right;\">\n",
       "      <th></th>\n",
       "      <th>T_out</th>\n",
       "      <th>T_out_stag</th>\n",
       "      <th>c_out</th>\n",
       "      <th>c_p</th>\n",
       "      <th>k</th>\n",
       "      <th>p_in_stag</th>\n",
       "      <th>p_out_stag</th>\n",
       "    </tr>\n",
       "  </thead>\n",
       "  <tbody>\n",
       "    <tr>\n",
       "      <th>0</th>\n",
       "      <td>1006.574</td>\n",
       "      <td>1006.916</td>\n",
       "      <td>28.668</td>\n",
       "      <td>1200.326</td>\n",
       "      <td>1.315</td>\n",
       "      <td>101983.935</td>\n",
       "      <td>101474.015</td>\n",
       "    </tr>\n",
       "    <tr>\n",
       "      <th>1</th>\n",
       "      <td>919.694</td>\n",
       "      <td>920.014</td>\n",
       "      <td>27.440</td>\n",
       "      <td>1177.298</td>\n",
       "      <td>1.323</td>\n",
       "      <td>101984.322</td>\n",
       "      <td>101474.400</td>\n",
       "    </tr>\n",
       "    <tr>\n",
       "      <th>2</th>\n",
       "      <td>861.637</td>\n",
       "      <td>861.941</td>\n",
       "      <td>26.586</td>\n",
       "      <td>1160.884</td>\n",
       "      <td>1.329</td>\n",
       "      <td>101984.608</td>\n",
       "      <td>101474.685</td>\n",
       "    </tr>\n",
       "    <tr>\n",
       "      <th>3</th>\n",
       "      <td>818.518</td>\n",
       "      <td>818.811</td>\n",
       "      <td>25.932</td>\n",
       "      <td>1148.158</td>\n",
       "      <td>1.334</td>\n",
       "      <td>101984.837</td>\n",
       "      <td>101474.913</td>\n",
       "    </tr>\n",
       "    <tr>\n",
       "      <th>4</th>\n",
       "      <td>784.482</td>\n",
       "      <td>784.765</td>\n",
       "      <td>25.404</td>\n",
       "      <td>1137.804</td>\n",
       "      <td>1.338</td>\n",
       "      <td>101985.027</td>\n",
       "      <td>101475.102</td>\n",
       "    </tr>\n",
       "    <tr>\n",
       "      <th>5</th>\n",
       "      <td>756.515</td>\n",
       "      <td>756.791</td>\n",
       "      <td>24.961</td>\n",
       "      <td>1129.075</td>\n",
       "      <td>1.341</td>\n",
       "      <td>101985.190</td>\n",
       "      <td>101475.265</td>\n",
       "    </tr>\n",
       "    <tr>\n",
       "      <th>6</th>\n",
       "      <td>732.876</td>\n",
       "      <td>733.145</td>\n",
       "      <td>24.581</td>\n",
       "      <td>1121.074</td>\n",
       "      <td>1.345</td>\n",
       "      <td>101985.343</td>\n",
       "      <td>101475.416</td>\n",
       "    </tr>\n",
       "    <tr>\n",
       "      <th>7</th>\n",
       "      <td>712.470</td>\n",
       "      <td>712.734</td>\n",
       "      <td>24.248</td>\n",
       "      <td>1113.951</td>\n",
       "      <td>1.348</td>\n",
       "      <td>101985.481</td>\n",
       "      <td>101475.553</td>\n",
       "    </tr>\n",
       "  </tbody>\n",
       "</table>\n",
       "</div>"
      ],
      "text/plain": [
       "      T_out  T_out_stag   c_out       c_p      k   p_in_stag  p_out_stag\n",
       "0  1006.574    1006.916  28.668  1200.326  1.315  101983.935  101474.015\n",
       "1   919.694     920.014  27.440  1177.298  1.323  101984.322  101474.400\n",
       "2   861.637     861.941  26.586  1160.884  1.329  101984.608  101474.685\n",
       "3   818.518     818.811  25.932  1148.158  1.334  101984.837  101474.913\n",
       "4   784.482     784.765  25.404  1137.804  1.338  101985.027  101475.102\n",
       "5   756.515     756.791  24.961  1129.075  1.341  101985.190  101475.265\n",
       "6   732.876     733.145  24.581  1121.074  1.345  101985.343  101475.416\n",
       "7   712.470     712.734  24.248  1113.951  1.348  101985.481  101475.553"
      ]
     },
     "execution_count": 26,
     "metadata": {},
     "output_type": "execute_result"
    }
   ],
   "source": [
    "my_engine.outlet.output.output_frame.round(3)"
   ]
  },
  {
   "cell_type": "markdown",
   "metadata": {},
   "source": [
    "# Графики зависимостей различных параметров от степени повышения давления в компрессоре"
   ]
  },
  {
   "cell_type": "markdown",
   "metadata": {},
   "source": [
    "Расход воздуха:"
   ]
  },
  {
   "cell_type": "code",
   "execution_count": 27,
   "metadata": {
    "collapsed": false
   },
   "outputs": [
    {
     "data": {
      "image/png": "[encoded data removed]",
      "text/plain": [
       "<matplotlib.figure.Figure at 0x2019be57668>"
      ]
     },
     "metadata": {},
     "output_type": "display_data"
    }
   ],
   "source": [
    "my_engine.plot(my_engine.G_air, r'$G_в$', r'plots\\cycle_G_air')"
   ]
  },
  {
   "cell_type": "markdown",
   "metadata": {},
   "source": [
    "Удельный расход топлива:"
   ]
  },
  {
   "cell_type": "code",
   "execution_count": 28,
   "metadata": {
    "collapsed": false
   },
   "outputs": [
    {
     "data": {
      "image/png": "[encoded data removed]",
      "text/plain": [
       "<matplotlib.figure.Figure at 0x2019d29a518>"
      ]
     },
     "metadata": {},
     "output_type": "display_data"
    }
   ],
   "source": [
    "my_engine.plot(my_engine.C_e, r'$C_e$', r'plots\\cycle_C_e')"
   ]
  },
  {
   "cell_type": "markdown",
   "metadata": {},
   "source": [
    "КПД дигателя:"
   ]
  },
  {
   "cell_type": "code",
   "execution_count": 29,
   "metadata": {
    "collapsed": false,
    "scrolled": false
   },
   "outputs": [
    {
     "data": {
      "image/png": "[encoded data removed]",
      "text/plain": [
       "<matplotlib.figure.Figure at 0x2019bf1c3c8>"
      ]
     },
     "metadata": {},
     "output_type": "display_data"
    }
   ],
   "source": [
    "my_engine.plot(my_engine.eta_e, r'$\\eta_e$', r'plots\\cycle_eta_e')"
   ]
  },
  {
   "cell_type": "markdown",
   "metadata": {},
   "source": [
    "Оптимальная степень повышения давления в копрессоре по работе:"
   ]
  },
  {
   "cell_type": "code",
   "execution_count": 30,
   "metadata": {
    "collapsed": false
   },
   "outputs": [
    {
     "data": {
      "text/plain": [
       "10.072173054588269"
      ]
     },
     "execution_count": 30,
     "metadata": {},
     "output_type": "execute_result"
    }
   ],
   "source": [
    "my_engine.pi_comp_stag_L[0]"
   ]
  },
  {
   "cell_type": "markdown",
   "metadata": {},
   "source": [
    "Оптимальная степень повышения давления в компрессоре по экономичности:"
   ]
  },
  {
   "cell_type": "code",
   "execution_count": 31,
   "metadata": {
    "collapsed": false
   },
   "outputs": [
    {
     "data": {
      "text/plain": [
       "16.746239149325991"
      ]
     },
     "execution_count": 31,
     "metadata": {},
     "output_type": "execute_result"
    }
   ],
   "source": [
    "my_engine.pi_comp_stag_eta[0]"
   ]
  },
  {
   "cell_type": "markdown",
   "metadata": {},
   "source": [
    "Инженерный оптимум:"
   ]
  },
  {
   "cell_type": "code",
   "execution_count": 32,
   "metadata": {
    "collapsed": false
   },
   "outputs": [
    {
     "data": {
      "text/plain": [
       "13.40920610195713"
      ]
     },
     "execution_count": 32,
     "metadata": {},
     "output_type": "execute_result"
    }
   ],
   "source": [
    "my_engine.pi_comp_stag_opt[0]"
   ]
  },
  {
   "cell_type": "code",
   "execution_count": 33,
   "metadata": {
    "collapsed": false
   },
   "outputs": [
    {
     "data": {
      "image/png": "[encoded data removed]",
      "text/plain": [
       "<matplotlib.figure.Figure at 0x2019d4a7b38>"
      ]
     },
     "metadata": {},
     "output_type": "display_data"
    }
   ],
   "source": [
    "my_engine.plot_relative_quantities(r'plots\\cycle_relative_quantities')"
   ]
  },
  {
   "cell_type": "markdown",
   "metadata": {},
   "source": [
    "# Оптимальные параметры элементов двигателя"
   ]
  },
  {
   "cell_type": "code",
   "execution_count": 34,
   "metadata": {
    "collapsed": false
   },
   "outputs": [],
   "source": [
    "my_engine.pi_comp_stag = my_engine.pi_comp_stag_opt"
   ]
  },
  {
   "cell_type": "markdown",
   "metadata": {},
   "source": [
    "Параметры компрессора:"
   ]
  },
  {
   "cell_type": "code",
   "execution_count": 35,
   "metadata": {
    "collapsed": false
   },
   "outputs": [
    {
     "data": {
      "text/html": [
       "<div>\n",
       "<table border=\"1\" class=\"dataframe\">\n",
       "  <thead>\n",
       "    <tr style=\"text-align: right;\">\n",
       "      <th></th>\n",
       "      <th>L_comp</th>\n",
       "      <th>T_out_stag</th>\n",
       "      <th>c_p_air</th>\n",
       "      <th>dk_rel</th>\n",
       "      <th>eta_comp_stag</th>\n",
       "      <th>k_air</th>\n",
       "      <th>k_air_old</th>\n",
       "      <th>p_out_stag</th>\n",
       "    </tr>\n",
       "  </thead>\n",
       "  <tbody>\n",
       "    <tr>\n",
       "      <th>0</th>\n",
       "      <td>377955.726832</td>\n",
       "      <td>659.096303</td>\n",
       "      <td>1018.484215</td>\n",
       "      <td>0.006754</td>\n",
       "      <td>0.858879</td>\n",
       "      <td>1.393115</td>\n",
       "      <td>1.402587</td>\n",
       "      <td>1.351961e+06</td>\n",
       "    </tr>\n",
       "  </tbody>\n",
       "</table>\n",
       "</div>"
      ],
      "text/plain": [
       "          L_comp  T_out_stag      c_p_air    dk_rel  eta_comp_stag     k_air  \\\n",
       "0  377955.726832  659.096303  1018.484215  0.006754       0.858879  1.393115   \n",
       "\n",
       "   k_air_old    p_out_stag  \n",
       "0   1.402587  1.351961e+06  "
      ]
     },
     "execution_count": 35,
     "metadata": {},
     "output_type": "execute_result"
    }
   ],
   "source": [
    "my_engine.compressor.output.output_frame"
   ]
  },
  {
   "cell_type": "markdown",
   "metadata": {},
   "source": [
    "Параметры камеры горения:"
   ]
  },
  {
   "cell_type": "code",
   "execution_count": 36,
   "metadata": {
    "collapsed": false
   },
   "outputs": [
    {
     "data": {
      "text/html": [
       "<div>\n",
       "<table border=\"1\" class=\"dataframe\">\n",
       "  <thead>\n",
       "    <tr style=\"text-align: right;\">\n",
       "      <th></th>\n",
       "      <th>alpha</th>\n",
       "      <th>g_fuel</th>\n",
       "      <th>g_gas</th>\n",
       "      <th>p_out_stag</th>\n",
       "    </tr>\n",
       "  </thead>\n",
       "  <tbody>\n",
       "    <tr>\n",
       "      <th>0</th>\n",
       "      <td>2.641754</td>\n",
       "      <td>0.025909</td>\n",
       "      <td>0.850987</td>\n",
       "      <td>1.299235e+06</td>\n",
       "    </tr>\n",
       "  </tbody>\n",
       "</table>\n",
       "</div>"
      ],
      "text/plain": [
       "      alpha    g_fuel     g_gas    p_out_stag\n",
       "0  2.641754  0.025909  0.850987  1.299235e+06"
      ]
     },
     "execution_count": 36,
     "metadata": {},
     "output_type": "execute_result"
    }
   ],
   "source": [
    "my_engine.combustion_chamber.output.output_frame"
   ]
  },
  {
   "cell_type": "markdown",
   "metadata": {},
   "source": [
    "Параметры турбины компрессора:"
   ]
  },
  {
   "cell_type": "code",
   "execution_count": 37,
   "metadata": {
    "collapsed": false
   },
   "outputs": [
    {
     "data": {
      "text/html": [
       "<div>\n",
       "<table border=\"1\" class=\"dataframe\">\n",
       "  <thead>\n",
       "    <tr style=\"text-align: right;\">\n",
       "      <th></th>\n",
       "      <th>H_turb_stag</th>\n",
       "      <th>L_turb</th>\n",
       "      <th>T_out_stag</th>\n",
       "      <th>c_p</th>\n",
       "      <th>eta_turb_stag</th>\n",
       "      <th>k</th>\n",
       "      <th>p_out_stag</th>\n",
       "      <th>pi_turb_stag</th>\n",
       "    </tr>\n",
       "  </thead>\n",
       "  <tbody>\n",
       "    <tr>\n",
       "      <th>0</th>\n",
       "      <td>486317.321386</td>\n",
       "      <td>448624.519909</td>\n",
       "      <td>1095.35219</td>\n",
       "      <td>1218.978024</td>\n",
       "      <td>0.922493</td>\n",
       "      <td>1.308509</td>\n",
       "      <td>336825.218747</td>\n",
       "      <td>3.857296</td>\n",
       "    </tr>\n",
       "  </tbody>\n",
       "</table>\n",
       "</div>"
      ],
      "text/plain": [
       "     H_turb_stag         L_turb  T_out_stag          c_p  eta_turb_stag  \\\n",
       "0  486317.321386  448624.519909  1095.35219  1218.978024       0.922493   \n",
       "\n",
       "          k     p_out_stag  pi_turb_stag  \n",
       "0  1.308509  336825.218747      3.857296  "
      ]
     },
     "execution_count": 37,
     "metadata": {},
     "output_type": "execute_result"
    }
   ],
   "source": [
    "my_engine.compressor_turbine.output.output_frame"
   ]
  },
  {
   "cell_type": "markdown",
   "metadata": {},
   "source": [
    "Параметры силовой турбины:"
   ]
  },
  {
   "cell_type": "code",
   "execution_count": 38,
   "metadata": {
    "collapsed": false
   },
   "outputs": [
    {
     "data": {
      "text/html": [
       "<div>\n",
       "<table border=\"1\" class=\"dataframe\">\n",
       "  <thead>\n",
       "    <tr style=\"text-align: right;\">\n",
       "      <th></th>\n",
       "      <th>H_turb_stag</th>\n",
       "      <th>L_turb</th>\n",
       "      <th>T_out_stag</th>\n",
       "      <th>c_p</th>\n",
       "      <th>eta_turb_stag</th>\n",
       "      <th>k</th>\n",
       "      <th>pi_turb_stag</th>\n",
       "    </tr>\n",
       "  </thead>\n",
       "  <tbody>\n",
       "    <tr>\n",
       "      <th>0</th>\n",
       "      <td>326624.659034</td>\n",
       "      <td>293552.129789</td>\n",
       "      <td>839.907784</td>\n",
       "      <td>1149.182062</td>\n",
       "      <td>0.921467</td>\n",
       "      <td>1.333495</td>\n",
       "      <td>3.324042</td>\n",
       "    </tr>\n",
       "  </tbody>\n",
       "</table>\n",
       "</div>"
      ],
      "text/plain": [
       "     H_turb_stag         L_turb  T_out_stag          c_p  eta_turb_stag  \\\n",
       "0  326624.659034  293552.129789  839.907784  1149.182062       0.921467   \n",
       "\n",
       "          k  pi_turb_stag  \n",
       "0  1.333495      3.324042  "
      ]
     },
     "execution_count": 38,
     "metadata": {},
     "output_type": "execute_result"
    }
   ],
   "source": [
    "my_engine.power_turbine.output.output_frame"
   ]
  },
  {
   "cell_type": "markdown",
   "metadata": {},
   "source": [
    "Сохранение результатов в файл:"
   ]
  },
  {
   "cell_type": "code",
   "execution_count": 39,
   "metadata": {
    "collapsed": false
   },
   "outputs": [],
   "source": [
    "my_engine.save_output()"
   ]
  },
  {
   "cell_type": "code",
   "execution_count": 40,
   "metadata": {
    "collapsed": false
   },
   "outputs": [
    {
     "data": {
      "text/plain": [
       "array([ 8.49215915])"
      ]
     },
     "execution_count": 40,
     "metadata": {},
     "output_type": "execute_result"
    }
   ],
   "source": [
    "my_engine.G_air"
   ]
  }
 ],
 "metadata": {
  "kernelspec": {
   "display_name": "Python 3",
   "language": "python",
   "name": "python3"
  },
  "language_info": {
   "codemirror_mode": {
    "name": "ipython",
    "version": 3
   },
   "file_extension": ".py",
   "mimetype": "text/x-python",
   "name": "python",
   "nbconvert_exporter": "python",
   "pygments_lexer": "ipython3",
   "version": "3.5.1"
  }
 },
 "nbformat": 4,
 "nbformat_minor": 0
}
