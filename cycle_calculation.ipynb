{
 "cells": [
  {
   "cell_type": "code",
   "execution_count": 1,
   "metadata": {
    "collapsed": false
   },
   "outputs": [],
   "source": [
    "from cycle_calculation.gas_turbine_engines import TV7_117\n",
    "from gas import Air, KeroseneCombustionProducts\n",
    "import numpy as np\n",
    "import pandas as pd\n",
    "%matplotlib inline"
   ]
  },
  {
   "cell_type": "code",
   "execution_count": 2,
   "metadata": {
    "collapsed": false
   },
   "outputs": [],
   "source": [
    "my_engine = TV7_117()"
   ]
  },
  {
   "cell_type": "markdown",
   "metadata": {},
   "source": [
    "# Исходные данные и задаваемые параметры"
   ]
  },
  {
   "cell_type": "markdown",
   "metadata": {},
   "source": [
    "Мощность турбины:"
   ]
  },
  {
   "cell_type": "code",
   "execution_count": 3,
   "metadata": {
    "collapsed": false
   },
   "outputs": [],
   "source": [
    "my_engine.N_e = 2.0687e6"
   ]
  },
  {
   "cell_type": "markdown",
   "metadata": {},
   "source": [
    "Температура на выходе из камеры сгорания:"
   ]
  },
  {
   "cell_type": "code",
   "execution_count": 4,
   "metadata": {
    "collapsed": false
   },
   "outputs": [],
   "source": [
    "my_engine.T_comb_stag = 1463.5"
   ]
  },
  {
   "cell_type": "markdown",
   "metadata": {},
   "source": [
    "Параметры атмосферы:"
   ]
  },
  {
   "cell_type": "code",
   "execution_count": 5,
   "metadata": {
    "collapsed": false
   },
   "outputs": [],
   "source": [
    "my_engine.T_a = 288\n",
    "my_engine.p_a = 0.10133e6"
   ]
  },
  {
   "cell_type": "markdown",
   "metadata": {},
   "source": [
    "Параметры топлива:"
   ]
  },
  {
   "cell_type": "code",
   "execution_count": 6,
   "metadata": {
    "collapsed": false
   },
   "outputs": [],
   "source": [
    "my_engine.Q_n = 43600e3\n",
    "my_engine.l0 = 14.61"
   ]
  },
  {
   "cell_type": "markdown",
   "metadata": {},
   "source": [
    "Число Маха:"
   ]
  },
  {
   "cell_type": "code",
   "execution_count": 7,
   "metadata": {
    "collapsed": false
   },
   "outputs": [],
   "source": [
    "my_engine.M_v = 0"
   ]
  },
  {
   "cell_type": "markdown",
   "metadata": {},
   "source": [
    "Коэффициент полноты горения:"
   ]
  },
  {
   "cell_type": "code",
   "execution_count": 8,
   "metadata": {
    "collapsed": false
   },
   "outputs": [],
   "source": [
    "my_engine.eta_comb = 0.98"
   ]
  },
  {
   "cell_type": "markdown",
   "metadata": {},
   "source": [
    "Коэффициент сохранения полного давления в камере сгорания:"
   ]
  },
  {
   "cell_type": "code",
   "execution_count": 9,
   "metadata": {
    "collapsed": false
   },
   "outputs": [],
   "source": [
    "my_engine.sigma_comb = 0.961"
   ]
  },
  {
   "cell_type": "markdown",
   "metadata": {},
   "source": [
    "Политропический КПД компрессора:"
   ]
  },
  {
   "cell_type": "code",
   "execution_count": 10,
   "metadata": {
    "collapsed": false
   },
   "outputs": [],
   "source": [
    "my_engine.eta_comp_stag_p = 0.91"
   ]
  },
  {
   "cell_type": "markdown",
   "metadata": {},
   "source": [
    "Политропический КПД турбины компрессора:"
   ]
  },
  {
   "cell_type": "code",
   "execution_count": 11,
   "metadata": {
    "collapsed": false
   },
   "outputs": [],
   "source": [
    "my_engine.eta_comp_turb_stag_p = 0.905"
   ]
  },
  {
   "cell_type": "markdown",
   "metadata": {},
   "source": [
    "Политропический КПД силовой турбины:"
   ]
  },
  {
   "cell_type": "code",
   "execution_count": 12,
   "metadata": {
    "collapsed": false
   },
   "outputs": [],
   "source": [
    "my_engine.eta_power_turb_stag_p = 0.905"
   ]
  },
  {
   "cell_type": "markdown",
   "metadata": {},
   "source": [
    "Механический КПД:"
   ]
  },
  {
   "cell_type": "code",
   "execution_count": 13,
   "metadata": {
    "collapsed": false
   },
   "outputs": [],
   "source": [
    "my_engine.eta_m = 0.99"
   ]
  },
  {
   "cell_type": "markdown",
   "metadata": {},
   "source": [
    "КПД редуктора:"
   ]
  },
  {
   "cell_type": "code",
   "execution_count": 14,
   "metadata": {
    "collapsed": false
   },
   "outputs": [],
   "source": [
    "my_engine.eta_r = 0.985"
   ]
  },
  {
   "cell_type": "markdown",
   "metadata": {},
   "source": [
    "Коэффициент сохранения полного давления входного устройства:"
   ]
  },
  {
   "cell_type": "code",
   "execution_count": 15,
   "metadata": {
    "collapsed": false
   },
   "outputs": [],
   "source": [
    "my_engine.sigma_in = 0.995"
   ]
  },
  {
   "cell_type": "markdown",
   "metadata": {},
   "source": [
    "Коэффициент сохранения полного давления выходного устройства:"
   ]
  },
  {
   "cell_type": "code",
   "execution_count": 16,
   "metadata": {
    "collapsed": false
   },
   "outputs": [],
   "source": [
    "my_engine.sigma_out = 0.995"
   ]
  },
  {
   "cell_type": "markdown",
   "metadata": {},
   "source": [
    "Отноcительный расход воздуха через лабиринтные уплотнения:"
   ]
  },
  {
   "cell_type": "code",
   "execution_count": 17,
   "metadata": {
    "collapsed": false
   },
   "outputs": [],
   "source": [
    "my_engine.g_outflow = 0.01"
   ]
  },
  {
   "cell_type": "markdown",
   "metadata": {},
   "source": [
    "Относительный расход воздуха на охлаждение:"
   ]
  },
  {
   "cell_type": "code",
   "execution_count": 18,
   "metadata": {
    "collapsed": false
   },
   "outputs": [],
   "source": [
    "my_engine.g_cooling = 0.18"
   ]
  },
  {
   "cell_type": "markdown",
   "metadata": {},
   "source": [
    "Относительный расход возвращаемого воздуха:"
   ]
  },
  {
   "cell_type": "code",
   "execution_count": 19,
   "metadata": {
    "collapsed": false
   },
   "outputs": [],
   "source": [
    "my_engine.g_return = 0.02"
   ]
  },
  {
   "cell_type": "markdown",
   "metadata": {},
   "source": [
    "Рабочее тело компрессора:"
   ]
  },
  {
   "cell_type": "code",
   "execution_count": 20,
   "metadata": {
    "collapsed": false
   },
   "outputs": [],
   "source": [
    "my_engine.comp_work_fluid = Air()"
   ]
  },
  {
   "cell_type": "markdown",
   "metadata": {},
   "source": [
    "Рабочее тело турбины:"
   ]
  },
  {
   "cell_type": "code",
   "execution_count": 21,
   "metadata": {
    "collapsed": false
   },
   "outputs": [],
   "source": [
    "my_engine.turb_work_fluid = KeroseneCombustionProducts()"
   ]
  },
  {
   "cell_type": "markdown",
   "metadata": {},
   "source": [
    "Степень повышения давления компрессора:"
   ]
  },
  {
   "cell_type": "code",
   "execution_count": 22,
   "metadata": {
    "collapsed": false
   },
   "outputs": [],
   "source": [
    "my_engine.pi_comp_stag = np.array([6, 9, 12, 15, 18, 21, 24, 27])"
   ]
  },
  {
   "cell_type": "markdown",
   "metadata": {},
   "source": [
    "Приведенная скорость на выходе их выходного устройства:"
   ]
  },
  {
   "cell_type": "code",
   "execution_count": 23,
   "metadata": {
    "collapsed": false
   },
   "outputs": [],
   "source": [
    "my_engine.lam_out = 0.05"
   ]
  },
  {
   "cell_type": "markdown",
   "metadata": {},
   "source": [
    "# Результаты расчета различных элементов двигателя"
   ]
  },
  {
   "cell_type": "markdown",
   "metadata": {},
   "source": [
    "Результаты расчета компрессора:"
   ]
  },
  {
   "cell_type": "code",
   "execution_count": 24,
   "metadata": {
    "collapsed": false
   },
   "outputs": [
    {
     "data": {
      "text/html": [
       "<div>\n",
       "<table border=\"1\" class=\"dataframe\">\n",
       "  <thead>\n",
       "    <tr style=\"text-align: right;\">\n",
       "      <th></th>\n",
       "      <th>L_comp</th>\n",
       "      <th>T_out_stag</th>\n",
       "      <th>c_p_air</th>\n",
       "      <th>eta_comp_stag</th>\n",
       "      <th>k_air</th>\n",
       "      <th>p_out_stag</th>\n",
       "    </tr>\n",
       "  </thead>\n",
       "  <tbody>\n",
       "    <tr>\n",
       "      <th>0</th>\n",
       "      <td>218000.0</td>\n",
       "      <td>504.1</td>\n",
       "      <td>1010.7</td>\n",
       "      <td>0.8854</td>\n",
       "      <td>1.3973</td>\n",
       "      <td>605000.0</td>\n",
       "    </tr>\n",
       "    <tr>\n",
       "      <th>1</th>\n",
       "      <td>287000.0</td>\n",
       "      <td>570.8</td>\n",
       "      <td>1014.0</td>\n",
       "      <td>0.8795</td>\n",
       "      <td>1.3955</td>\n",
       "      <td>907000.0</td>\n",
       "    </tr>\n",
       "    <tr>\n",
       "      <th>2</th>\n",
       "      <td>341000.0</td>\n",
       "      <td>623.0</td>\n",
       "      <td>1016.7</td>\n",
       "      <td>0.8752</td>\n",
       "      <td>1.3941</td>\n",
       "      <td>1210000.0</td>\n",
       "    </tr>\n",
       "    <tr>\n",
       "      <th>3</th>\n",
       "      <td>386000.0</td>\n",
       "      <td>666.5</td>\n",
       "      <td>1018.9</td>\n",
       "      <td>0.8719</td>\n",
       "      <td>1.3929</td>\n",
       "      <td>1512000.0</td>\n",
       "    </tr>\n",
       "    <tr>\n",
       "      <th>4</th>\n",
       "      <td>424000.0</td>\n",
       "      <td>704.2</td>\n",
       "      <td>1019.8</td>\n",
       "      <td>0.8692</td>\n",
       "      <td>1.3924</td>\n",
       "      <td>1815000.0</td>\n",
       "    </tr>\n",
       "    <tr>\n",
       "      <th>5</th>\n",
       "      <td>459000.0</td>\n",
       "      <td>736.3</td>\n",
       "      <td>1022.8</td>\n",
       "      <td>0.8669</td>\n",
       "      <td>1.3908</td>\n",
       "      <td>2117000.0</td>\n",
       "    </tr>\n",
       "    <tr>\n",
       "      <th>6</th>\n",
       "      <td>489000.0</td>\n",
       "      <td>765.1</td>\n",
       "      <td>1025.5</td>\n",
       "      <td>0.8650</td>\n",
       "      <td>1.3894</td>\n",
       "      <td>2420000.0</td>\n",
       "    </tr>\n",
       "    <tr>\n",
       "      <th>7</th>\n",
       "      <td>517000.0</td>\n",
       "      <td>791.1</td>\n",
       "      <td>1027.9</td>\n",
       "      <td>0.8633</td>\n",
       "      <td>1.3881</td>\n",
       "      <td>2722000.0</td>\n",
       "    </tr>\n",
       "  </tbody>\n",
       "</table>\n",
       "</div>"
      ],
      "text/plain": [
       "     L_comp  T_out_stag  c_p_air  eta_comp_stag   k_air  p_out_stag\n",
       "0  218000.0       504.1   1010.7         0.8854  1.3973    605000.0\n",
       "1  287000.0       570.8   1014.0         0.8795  1.3955    907000.0\n",
       "2  341000.0       623.0   1016.7         0.8752  1.3941   1210000.0\n",
       "3  386000.0       666.5   1018.9         0.8719  1.3929   1512000.0\n",
       "4  424000.0       704.2   1019.8         0.8692  1.3924   1815000.0\n",
       "5  459000.0       736.3   1022.8         0.8669  1.3908   2117000.0\n",
       "6  489000.0       765.1   1025.5         0.8650  1.3894   2420000.0\n",
       "7  517000.0       791.1   1027.9         0.8633  1.3881   2722000.0"
      ]
     },
     "execution_count": 24,
     "metadata": {},
     "output_type": "execute_result"
    }
   ],
   "source": [
    "my_engine.compressor.output.output_frame.round({'L_comp': -3, 'T_out_stag': 1, 'c_p_air': 1, 'eta_comp_stag': 4, 'k_air': 4, \n",
    "                                                'p_out_stag': -3})"
   ]
  },
  {
   "cell_type": "markdown",
   "metadata": {},
   "source": [
    "Результаты расчета камеры горения:"
   ]
  },
  {
   "cell_type": "code",
   "execution_count": 25,
   "metadata": {
    "collapsed": false
   },
   "outputs": [
    {
     "data": {
      "text/html": [
       "<div>\n",
       "<table border=\"1\" class=\"dataframe\">\n",
       "  <thead>\n",
       "    <tr style=\"text-align: right;\">\n",
       "      <th></th>\n",
       "      <th>alpha</th>\n",
       "      <th>g_fuel</th>\n",
       "      <th>g_gas</th>\n",
       "      <th>p_out_stag</th>\n",
       "    </tr>\n",
       "  </thead>\n",
       "  <tbody>\n",
       "    <tr>\n",
       "      <th>0</th>\n",
       "      <td>2.71</td>\n",
       "      <td>0.0252</td>\n",
       "      <td>0.8504</td>\n",
       "      <td>581000.0</td>\n",
       "    </tr>\n",
       "    <tr>\n",
       "      <th>1</th>\n",
       "      <td>2.92</td>\n",
       "      <td>0.0235</td>\n",
       "      <td>0.8490</td>\n",
       "      <td>872000.0</td>\n",
       "    </tr>\n",
       "    <tr>\n",
       "      <th>2</th>\n",
       "      <td>3.10</td>\n",
       "      <td>0.0221</td>\n",
       "      <td>0.8479</td>\n",
       "      <td>1163000.0</td>\n",
       "    </tr>\n",
       "    <tr>\n",
       "      <th>3</th>\n",
       "      <td>3.27</td>\n",
       "      <td>0.0210</td>\n",
       "      <td>0.8470</td>\n",
       "      <td>1453000.0</td>\n",
       "    </tr>\n",
       "    <tr>\n",
       "      <th>4</th>\n",
       "      <td>3.43</td>\n",
       "      <td>0.0200</td>\n",
       "      <td>0.8462</td>\n",
       "      <td>1744000.0</td>\n",
       "    </tr>\n",
       "    <tr>\n",
       "      <th>5</th>\n",
       "      <td>3.58</td>\n",
       "      <td>0.0191</td>\n",
       "      <td>0.8455</td>\n",
       "      <td>2035000.0</td>\n",
       "    </tr>\n",
       "    <tr>\n",
       "      <th>6</th>\n",
       "      <td>3.73</td>\n",
       "      <td>0.0184</td>\n",
       "      <td>0.8449</td>\n",
       "      <td>2325000.0</td>\n",
       "    </tr>\n",
       "    <tr>\n",
       "      <th>7</th>\n",
       "      <td>3.87</td>\n",
       "      <td>0.0177</td>\n",
       "      <td>0.8443</td>\n",
       "      <td>2616000.0</td>\n",
       "    </tr>\n",
       "  </tbody>\n",
       "</table>\n",
       "</div>"
      ],
      "text/plain": [
       "   alpha  g_fuel   g_gas  p_out_stag\n",
       "0   2.71  0.0252  0.8504    581000.0\n",
       "1   2.92  0.0235  0.8490    872000.0\n",
       "2   3.10  0.0221  0.8479   1163000.0\n",
       "3   3.27  0.0210  0.8470   1453000.0\n",
       "4   3.43  0.0200  0.8462   1744000.0\n",
       "5   3.58  0.0191  0.8455   2035000.0\n",
       "6   3.73  0.0184  0.8449   2325000.0\n",
       "7   3.87  0.0177  0.8443   2616000.0"
      ]
     },
     "execution_count": 25,
     "metadata": {},
     "output_type": "execute_result"
    }
   ],
   "source": [
    "my_engine.combustion_chamber.output.output_frame.round({'alpha': 2, 'g_fuel': 4, 'g_gas': 4, 'p_out_stag': -3})"
   ]
  },
  {
   "cell_type": "markdown",
   "metadata": {},
   "source": [
    "Результаты расчета турбины компрессора:"
   ]
  },
  {
   "cell_type": "code",
   "execution_count": 26,
   "metadata": {
    "collapsed": false
   },
   "outputs": [
    {
     "data": {
      "text/html": [
       "<div>\n",
       "<table border=\"1\" class=\"dataframe\">\n",
       "  <thead>\n",
       "    <tr style=\"text-align: right;\">\n",
       "      <th></th>\n",
       "      <th>H_turb_stag</th>\n",
       "      <th>L_turb</th>\n",
       "      <th>T_out_stag</th>\n",
       "      <th>c_p</th>\n",
       "      <th>eta_turb_stag</th>\n",
       "      <th>k</th>\n",
       "      <th>p_out_stag</th>\n",
       "      <th>pi_turb_stag</th>\n",
       "    </tr>\n",
       "  </thead>\n",
       "  <tbody>\n",
       "    <tr>\n",
       "      <th>0</th>\n",
       "      <td>284000.0</td>\n",
       "      <td>259000.0</td>\n",
       "      <td>1253.0</td>\n",
       "      <td>1235.139474</td>\n",
       "      <td>0.9122</td>\n",
       "      <td>1.303248</td>\n",
       "      <td>279000.0</td>\n",
       "      <td>2.087</td>\n",
       "    </tr>\n",
       "    <tr>\n",
       "      <th>1</th>\n",
       "      <td>373000.0</td>\n",
       "      <td>341000.0</td>\n",
       "      <td>1185.0</td>\n",
       "      <td>1223.682401</td>\n",
       "      <td>0.9147</td>\n",
       "      <td>1.306959</td>\n",
       "      <td>323000.0</td>\n",
       "      <td>2.703</td>\n",
       "    </tr>\n",
       "    <tr>\n",
       "      <th>2</th>\n",
       "      <td>443000.0</td>\n",
       "      <td>406000.0</td>\n",
       "      <td>1129.0</td>\n",
       "      <td>1214.705954</td>\n",
       "      <td>0.9168</td>\n",
       "      <td>1.309930</td>\n",
       "      <td>347000.0</td>\n",
       "      <td>3.354</td>\n",
       "    </tr>\n",
       "    <tr>\n",
       "      <th>3</th>\n",
       "      <td>501000.0</td>\n",
       "      <td>460000.0</td>\n",
       "      <td>1083.0</td>\n",
       "      <td>1207.225933</td>\n",
       "      <td>0.9187</td>\n",
       "      <td>1.312450</td>\n",
       "      <td>359000.0</td>\n",
       "      <td>4.053</td>\n",
       "    </tr>\n",
       "    <tr>\n",
       "      <th>4</th>\n",
       "      <td>551000.0</td>\n",
       "      <td>507000.0</td>\n",
       "      <td>1042.0</td>\n",
       "      <td>1200.763745</td>\n",
       "      <td>0.9203</td>\n",
       "      <td>1.314661</td>\n",
       "      <td>363000.0</td>\n",
       "      <td>4.808</td>\n",
       "    </tr>\n",
       "    <tr>\n",
       "      <th>5</th>\n",
       "      <td>594000.0</td>\n",
       "      <td>548000.0</td>\n",
       "      <td>1005.0</td>\n",
       "      <td>1195.154589</td>\n",
       "      <td>0.9218</td>\n",
       "      <td>1.316605</td>\n",
       "      <td>362000.0</td>\n",
       "      <td>5.621</td>\n",
       "    </tr>\n",
       "    <tr>\n",
       "      <th>6</th>\n",
       "      <td>634000.0</td>\n",
       "      <td>585000.0</td>\n",
       "      <td>972.0</td>\n",
       "      <td>1190.125596</td>\n",
       "      <td>0.9232</td>\n",
       "      <td>1.318369</td>\n",
       "      <td>358000.0</td>\n",
       "      <td>6.504</td>\n",
       "    </tr>\n",
       "    <tr>\n",
       "      <th>7</th>\n",
       "      <td>669000.0</td>\n",
       "      <td>619000.0</td>\n",
       "      <td>942.0</td>\n",
       "      <td>1185.557954</td>\n",
       "      <td>0.9245</td>\n",
       "      <td>1.319988</td>\n",
       "      <td>350000.0</td>\n",
       "      <td>7.464</td>\n",
       "    </tr>\n",
       "  </tbody>\n",
       "</table>\n",
       "</div>"
      ],
      "text/plain": [
       "   H_turb_stag    L_turb  T_out_stag          c_p  eta_turb_stag         k  \\\n",
       "0     284000.0  259000.0      1253.0  1235.139474         0.9122  1.303248   \n",
       "1     373000.0  341000.0      1185.0  1223.682401         0.9147  1.306959   \n",
       "2     443000.0  406000.0      1129.0  1214.705954         0.9168  1.309930   \n",
       "3     501000.0  460000.0      1083.0  1207.225933         0.9187  1.312450   \n",
       "4     551000.0  507000.0      1042.0  1200.763745         0.9203  1.314661   \n",
       "5     594000.0  548000.0      1005.0  1195.154589         0.9218  1.316605   \n",
       "6     634000.0  585000.0       972.0  1190.125596         0.9232  1.318369   \n",
       "7     669000.0  619000.0       942.0  1185.557954         0.9245  1.319988   \n",
       "\n",
       "   p_out_stag  pi_turb_stag  \n",
       "0    279000.0         2.087  \n",
       "1    323000.0         2.703  \n",
       "2    347000.0         3.354  \n",
       "3    359000.0         4.053  \n",
       "4    363000.0         4.808  \n",
       "5    362000.0         5.621  \n",
       "6    358000.0         6.504  \n",
       "7    350000.0         7.464  "
      ]
     },
     "execution_count": 26,
     "metadata": {},
     "output_type": "execute_result"
    }
   ],
   "source": [
    "my_engine.compressor_turbine.output.output_frame.round({'H_turb_stag': -3, 'L_turb': -3, 'T_out_stag': 0, 'c_p_gas': 1, \n",
    "                                                       'eta_turb_stag': 4, 'k_gas': 3, 'p_out_stag': -3, 'pi_turb_stag': 3})"
   ]
  },
  {
   "cell_type": "markdown",
   "metadata": {},
   "source": [
    "Результаты расчета силовой турбины:"
   ]
  },
  {
   "cell_type": "code",
   "execution_count": 27,
   "metadata": {
    "collapsed": false
   },
   "outputs": [
    {
     "data": {
      "text/html": [
       "<div>\n",
       "<table border=\"1\" class=\"dataframe\">\n",
       "  <thead>\n",
       "    <tr style=\"text-align: right;\">\n",
       "      <th></th>\n",
       "      <th>H_turb_stag</th>\n",
       "      <th>L_turb</th>\n",
       "      <th>T_out_stag</th>\n",
       "      <th>c_p</th>\n",
       "      <th>eta_turb_stag</th>\n",
       "      <th>k</th>\n",
       "      <th>pi_turb_stag</th>\n",
       "    </tr>\n",
       "  </thead>\n",
       "  <tbody>\n",
       "    <tr>\n",
       "      <th>0</th>\n",
       "      <td>323000.0</td>\n",
       "      <td>291000.0</td>\n",
       "      <td>1008.0</td>\n",
       "      <td>1184.369985</td>\n",
       "      <td>0.9150</td>\n",
       "      <td>1.320412</td>\n",
       "      <td>2.749</td>\n",
       "    </tr>\n",
       "    <tr>\n",
       "      <th>1</th>\n",
       "      <td>343000.0</td>\n",
       "      <td>307000.0</td>\n",
       "      <td>921.0</td>\n",
       "      <td>1163.960445</td>\n",
       "      <td>0.9165</td>\n",
       "      <td>1.327872</td>\n",
       "      <td>3.183</td>\n",
       "    </tr>\n",
       "    <tr>\n",
       "      <th>2</th>\n",
       "      <td>344000.0</td>\n",
       "      <td>306000.0</td>\n",
       "      <td>863.0</td>\n",
       "      <td>1149.219579</td>\n",
       "      <td>0.9173</td>\n",
       "      <td>1.333480</td>\n",
       "      <td>3.421</td>\n",
       "    </tr>\n",
       "    <tr>\n",
       "      <th>3</th>\n",
       "      <td>337000.0</td>\n",
       "      <td>299000.0</td>\n",
       "      <td>820.0</td>\n",
       "      <td>1137.595778</td>\n",
       "      <td>0.9177</td>\n",
       "      <td>1.338040</td>\n",
       "      <td>3.539</td>\n",
       "    </tr>\n",
       "    <tr>\n",
       "      <th>4</th>\n",
       "      <td>326000.0</td>\n",
       "      <td>289000.0</td>\n",
       "      <td>785.0</td>\n",
       "      <td>1127.960782</td>\n",
       "      <td>0.9178</td>\n",
       "      <td>1.341915</td>\n",
       "      <td>3.580</td>\n",
       "    </tr>\n",
       "    <tr>\n",
       "      <th>5</th>\n",
       "      <td>314000.0</td>\n",
       "      <td>278000.0</td>\n",
       "      <td>757.0</td>\n",
       "      <td>1119.800699</td>\n",
       "      <td>0.9179</td>\n",
       "      <td>1.345266</td>\n",
       "      <td>3.573</td>\n",
       "    </tr>\n",
       "    <tr>\n",
       "      <th>6</th>\n",
       "      <td>301000.0</td>\n",
       "      <td>265000.0</td>\n",
       "      <td>734.0</td>\n",
       "      <td>1112.666616</td>\n",
       "      <td>0.9178</td>\n",
       "      <td>1.348251</td>\n",
       "      <td>3.529</td>\n",
       "    </tr>\n",
       "    <tr>\n",
       "      <th>7</th>\n",
       "      <td>287000.0</td>\n",
       "      <td>253000.0</td>\n",
       "      <td>713.0</td>\n",
       "      <td>1106.322329</td>\n",
       "      <td>0.9177</td>\n",
       "      <td>1.350949</td>\n",
       "      <td>3.459</td>\n",
       "    </tr>\n",
       "  </tbody>\n",
       "</table>\n",
       "</div>"
      ],
      "text/plain": [
       "   H_turb_stag    L_turb  T_out_stag          c_p  eta_turb_stag         k  \\\n",
       "0     323000.0  291000.0      1008.0  1184.369985         0.9150  1.320412   \n",
       "1     343000.0  307000.0       921.0  1163.960445         0.9165  1.327872   \n",
       "2     344000.0  306000.0       863.0  1149.219579         0.9173  1.333480   \n",
       "3     337000.0  299000.0       820.0  1137.595778         0.9177  1.338040   \n",
       "4     326000.0  289000.0       785.0  1127.960782         0.9178  1.341915   \n",
       "5     314000.0  278000.0       757.0  1119.800699         0.9179  1.345266   \n",
       "6     301000.0  265000.0       734.0  1112.666616         0.9178  1.348251   \n",
       "7     287000.0  253000.0       713.0  1106.322329         0.9177  1.350949   \n",
       "\n",
       "   pi_turb_stag  \n",
       "0         2.749  \n",
       "1         3.183  \n",
       "2         3.421  \n",
       "3         3.539  \n",
       "4         3.580  \n",
       "5         3.573  \n",
       "6         3.529  \n",
       "7         3.459  "
      ]
     },
     "execution_count": 27,
     "metadata": {},
     "output_type": "execute_result"
    }
   ],
   "source": [
    "my_engine.power_turbine.output.output_frame.round({'H_turb_stag': -3, 'L_turb': -3, 'T_out_stag': 0, 'c_p_gas': 1, \n",
    "                                                   'eta_turb_stag': 4, 'k_gas': 3, 'pi_turb_stag': 3})"
   ]
  },
  {
   "cell_type": "markdown",
   "metadata": {},
   "source": [
    "# Графики зависимостей различных параметров от степени повышения давления в компрессоре"
   ]
  },
  {
   "cell_type": "markdown",
   "metadata": {},
   "source": [
    "Расход воздуха:"
   ]
  },
  {
   "cell_type": "code",
   "execution_count": 28,
   "metadata": {
    "collapsed": false
   },
   "outputs": [
    {
     "data": {
      "image/png": "[encoded data removed]",
      "text/plain": [
       "<matplotlib.figure.Figure at 0x1580bb59438>"
      ]
     },
     "metadata": {},
     "output_type": "display_data"
    }
   ],
   "source": [
    "my_engine.plot(my_engine.G_air, r'$G_в$')"
   ]
  },
  {
   "cell_type": "markdown",
   "metadata": {},
   "source": [
    "Удельный расход топлива:"
   ]
  },
  {
   "cell_type": "code",
   "execution_count": 29,
   "metadata": {
    "collapsed": false
   },
   "outputs": [
    {
     "data": {
      "image/png": "[encoded data removed]",
      "text/plain": [
       "<matplotlib.figure.Figure at 0x1580cfd5ba8>"
      ]
     },
     "metadata": {},
     "output_type": "display_data"
    }
   ],
   "source": [
    "my_engine.plot(my_engine.C_e, r'$C_e$')"
   ]
  },
  {
   "cell_type": "markdown",
   "metadata": {},
   "source": [
    "КПД дигателя:"
   ]
  },
  {
   "cell_type": "code",
   "execution_count": 30,
   "metadata": {
    "collapsed": false,
    "scrolled": false
   },
   "outputs": [
    {
     "data": {
      "image/png": "[encoded data removed]",
      "text/plain": [
       "<matplotlib.figure.Figure at 0x1580d0249b0>"
      ]
     },
     "metadata": {},
     "output_type": "display_data"
    }
   ],
   "source": [
    "my_engine.plot(my_engine.eta_e, r'$\\eta_e$')"
   ]
  },
  {
   "cell_type": "markdown",
   "metadata": {},
   "source": [
    "Оптимальная степень повышения давления в копрессоре по работе:"
   ]
  },
  {
   "cell_type": "code",
   "execution_count": 31,
   "metadata": {
    "collapsed": false
   },
   "outputs": [
    {
     "data": {
      "text/plain": [
       "9.0000008707052057"
      ]
     },
     "execution_count": 31,
     "metadata": {},
     "output_type": "execute_result"
    }
   ],
   "source": [
    "my_engine.pi_comp_stag_L[0]"
   ]
  },
  {
   "cell_type": "markdown",
   "metadata": {},
   "source": [
    "Оптимальная степень повышения давления в компрессоре по экономичности:"
   ]
  },
  {
   "cell_type": "code",
   "execution_count": 32,
   "metadata": {
    "collapsed": false
   },
   "outputs": [
    {
     "data": {
      "text/plain": [
       "21.00000014938713"
      ]
     },
     "execution_count": 32,
     "metadata": {},
     "output_type": "execute_result"
    }
   ],
   "source": [
    "my_engine.pi_comp_stag_eta[0]"
   ]
  },
  {
   "cell_type": "markdown",
   "metadata": {},
   "source": [
    "Инженерный оптимум:"
   ]
  },
  {
   "cell_type": "code",
   "execution_count": 33,
   "metadata": {
    "collapsed": false
   },
   "outputs": [
    {
     "data": {
      "text/plain": [
       "13.20000061824388"
      ]
     },
     "execution_count": 33,
     "metadata": {},
     "output_type": "execute_result"
    }
   ],
   "source": [
    "my_engine.pi_comp_stag_opt[0]"
   ]
  },
  {
   "cell_type": "markdown",
   "metadata": {},
   "source": [
    "# Оптимальные параметры элементов двигателя"
   ]
  },
  {
   "cell_type": "code",
   "execution_count": 34,
   "metadata": {
    "collapsed": false
   },
   "outputs": [],
   "source": [
    "my_engine.pi_comp_stag = my_engine.pi_comp_stag_opt"
   ]
  },
  {
   "cell_type": "markdown",
   "metadata": {},
   "source": [
    "Параметры компрессора:"
   ]
  },
  {
   "cell_type": "code",
   "execution_count": 35,
   "metadata": {
    "collapsed": false
   },
   "outputs": [
    {
     "data": {
      "text/html": [
       "<div>\n",
       "<table border=\"1\" class=\"dataframe\">\n",
       "  <thead>\n",
       "    <tr style=\"text-align: right;\">\n",
       "      <th></th>\n",
       "      <th>L_comp</th>\n",
       "      <th>T_out_stag</th>\n",
       "      <th>c_p_air</th>\n",
       "      <th>eta_comp_stag</th>\n",
       "      <th>k_air</th>\n",
       "      <th>p_out_stag</th>\n",
       "    </tr>\n",
       "  </thead>\n",
       "  <tbody>\n",
       "    <tr>\n",
       "      <th>0</th>\n",
       "      <td>368417.770731</td>\n",
       "      <td>649.895708</td>\n",
       "      <td>1018.02194</td>\n",
       "      <td>0.873165</td>\n",
       "      <td>1.393363</td>\n",
       "      <td>1.330868e+06</td>\n",
       "    </tr>\n",
       "  </tbody>\n",
       "</table>\n",
       "</div>"
      ],
      "text/plain": [
       "          L_comp  T_out_stag     c_p_air  eta_comp_stag     k_air  \\\n",
       "0  368417.770731  649.895708  1018.02194       0.873165  1.393363   \n",
       "\n",
       "     p_out_stag  \n",
       "0  1.330868e+06  "
      ]
     },
     "execution_count": 35,
     "metadata": {},
     "output_type": "execute_result"
    }
   ],
   "source": [
    "my_engine.compressor.output.output_frame"
   ]
  },
  {
   "cell_type": "markdown",
   "metadata": {},
   "source": [
    "Параметры камеры горения:"
   ]
  },
  {
   "cell_type": "code",
   "execution_count": 36,
   "metadata": {
    "collapsed": false
   },
   "outputs": [
    {
     "data": {
      "text/html": [
       "<div>\n",
       "<table border=\"1\" class=\"dataframe\">\n",
       "  <thead>\n",
       "    <tr style=\"text-align: right;\">\n",
       "      <th></th>\n",
       "      <th>alpha</th>\n",
       "      <th>g_fuel</th>\n",
       "      <th>g_gas</th>\n",
       "      <th>p_out_stag</th>\n",
       "    </tr>\n",
       "  </thead>\n",
       "  <tbody>\n",
       "    <tr>\n",
       "      <th>0</th>\n",
       "      <td>3.200301</td>\n",
       "      <td>0.021387</td>\n",
       "      <td>0.847324</td>\n",
       "      <td>1.278964e+06</td>\n",
       "    </tr>\n",
       "  </tbody>\n",
       "</table>\n",
       "</div>"
      ],
      "text/plain": [
       "      alpha    g_fuel     g_gas    p_out_stag\n",
       "0  3.200301  0.021387  0.847324  1.278964e+06"
      ]
     },
     "execution_count": 36,
     "metadata": {},
     "output_type": "execute_result"
    }
   ],
   "source": [
    "my_engine.combustion_chamber.output.output_frame"
   ]
  },
  {
   "cell_type": "markdown",
   "metadata": {},
   "source": [
    "Параметры турбины компрессора:"
   ]
  },
  {
   "cell_type": "code",
   "execution_count": 37,
   "metadata": {
    "collapsed": false
   },
   "outputs": [
    {
     "data": {
      "text/html": [
       "<div>\n",
       "<table border=\"1\" class=\"dataframe\">\n",
       "  <thead>\n",
       "    <tr style=\"text-align: right;\">\n",
       "      <th></th>\n",
       "      <th>H_turb_stag</th>\n",
       "      <th>L_turb</th>\n",
       "      <th>T_out_stag</th>\n",
       "      <th>c_p</th>\n",
       "      <th>eta_turb_stag</th>\n",
       "      <th>k</th>\n",
       "      <th>p_out_stag</th>\n",
       "      <th>pi_turb_stag</th>\n",
       "    </tr>\n",
       "  </thead>\n",
       "  <tbody>\n",
       "    <tr>\n",
       "      <th>0</th>\n",
       "      <td>478430.477486</td>\n",
       "      <td>439193.549142</td>\n",
       "      <td>1100.529527</td>\n",
       "      <td>1210.079807</td>\n",
       "      <td>0.917988</td>\n",
       "      <td>1.311484</td>\n",
       "      <td>339626.052663</td>\n",
       "      <td>3.765802</td>\n",
       "    </tr>\n",
       "  </tbody>\n",
       "</table>\n",
       "</div>"
      ],
      "text/plain": [
       "     H_turb_stag         L_turb   T_out_stag          c_p  eta_turb_stag  \\\n",
       "0  478430.477486  439193.549142  1100.529527  1210.079807       0.917988   \n",
       "\n",
       "          k     p_out_stag  pi_turb_stag  \n",
       "0  1.311484  339626.052663      3.765802  "
      ]
     },
     "execution_count": 37,
     "metadata": {},
     "output_type": "execute_result"
    }
   ],
   "source": [
    "my_engine.compressor_turbine.output.output_frame"
   ]
  },
  {
   "cell_type": "markdown",
   "metadata": {},
   "source": [
    "Параметры силовой турбины:"
   ]
  },
  {
   "cell_type": "code",
   "execution_count": 38,
   "metadata": {
    "collapsed": false
   },
   "outputs": [
    {
     "data": {
      "text/html": [
       "<div>\n",
       "<table border=\"1\" class=\"dataframe\">\n",
       "  <thead>\n",
       "    <tr style=\"text-align: right;\">\n",
       "      <th></th>\n",
       "      <th>H_turb_stag</th>\n",
       "      <th>L_turb</th>\n",
       "      <th>T_out_stag</th>\n",
       "      <th>c_p</th>\n",
       "      <th>eta_turb_stag</th>\n",
       "      <th>k</th>\n",
       "      <th>pi_turb_stag</th>\n",
       "    </tr>\n",
       "  </thead>\n",
       "  <tbody>\n",
       "    <tr>\n",
       "      <th>0</th>\n",
       "      <td>329843.648784</td>\n",
       "      <td>293501.591517</td>\n",
       "      <td>843.714698</td>\n",
       "      <td>1142.852976</td>\n",
       "      <td>0.917115</td>\n",
       "      <td>1.335962</td>\n",
       "      <td>3.351683</td>\n",
       "    </tr>\n",
       "  </tbody>\n",
       "</table>\n",
       "</div>"
      ],
      "text/plain": [
       "     H_turb_stag         L_turb  T_out_stag          c_p  eta_turb_stag  \\\n",
       "0  329843.648784  293501.591517  843.714698  1142.852976       0.917115   \n",
       "\n",
       "          k  pi_turb_stag  \n",
       "0  1.335962      3.351683  "
      ]
     },
     "execution_count": 38,
     "metadata": {},
     "output_type": "execute_result"
    }
   ],
   "source": [
    "my_engine.power_turbine.output.output_frame"
   ]
  },
  {
   "cell_type": "markdown",
   "metadata": {},
   "source": [
    "Сохранение результатов в файл:"
   ]
  },
  {
   "cell_type": "code",
   "execution_count": 39,
   "metadata": {
    "collapsed": false
   },
   "outputs": [],
   "source": [
    "my_engine.save_output()"
   ]
  }
 ],
 "metadata": {
  "kernelspec": {
   "display_name": "Python 3",
   "language": "python",
   "name": "python3"
  },
  "language_info": {
   "codemirror_mode": {
    "name": "ipython",
    "version": 3
   },
   "file_extension": ".py",
   "mimetype": "text/x-python",
   "name": "python",
   "nbconvert_exporter": "python",
   "pygments_lexer": "ipython3",
   "version": "3.5.1"
  }
 },
 "nbformat": 4,
 "nbformat_minor": 0
}
