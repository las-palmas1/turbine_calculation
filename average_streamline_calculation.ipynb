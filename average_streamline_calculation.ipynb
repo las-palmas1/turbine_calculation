{
 "cells": [
  {
   "cell_type": "code",
   "execution_count": 111,
   "metadata": {
    "collapsed": false
   },
   "outputs": [],
   "source": [
    "from cycle_calculation.gas_turbine_engines import TV7_117\n",
    "from IPython.display import Latex\n",
    "from average_streamline_calculation.turbine import Turbine, TurbineType, StageGeomAndHeatDrop, TurbineGeomAndHeatDropDistribution \n",
    "import os\n",
    "import numpy as np\n",
    "import pickle as pk\n",
    "%matplotlib inline"
   ]
  },
  {
   "cell_type": "code",
   "execution_count": 112,
   "metadata": {
    "collapsed": true
   },
   "outputs": [],
   "source": [
    "def load(filename) -> TV7_117:\n",
    "    file = open(filename, 'rb')\n",
    "    result = pk.load(file)\n",
    "    return result"
   ]
  },
  {
   "cell_type": "markdown",
   "metadata": {},
   "source": [
    "Загрузка результатов расчета цикла:"
   ]
  },
  {
   "cell_type": "code",
   "execution_count": 113,
   "metadata": {
    "collapsed": false
   },
   "outputs": [
    {
     "data": {
      "text/html": [
       "<div>\n",
       "<table border=\"1\" class=\"dataframe\">\n",
       "  <thead>\n",
       "    <tr style=\"text-align: right;\">\n",
       "      <th></th>\n",
       "      <th>H_turb_stag</th>\n",
       "      <th>L_turb</th>\n",
       "      <th>T_out_stag</th>\n",
       "      <th>c_p_gas</th>\n",
       "      <th>eta_turb_stag</th>\n",
       "      <th>k_gas</th>\n",
       "      <th>pi_turb_stag</th>\n",
       "    </tr>\n",
       "  </thead>\n",
       "  <tbody>\n",
       "    <tr>\n",
       "      <th>0</th>\n",
       "      <td>332000.0</td>\n",
       "      <td>296000.0</td>\n",
       "      <td>845.0</td>\n",
       "      <td>1147.2</td>\n",
       "      <td>0.9172</td>\n",
       "      <td>1.334</td>\n",
       "      <td>3.367</td>\n",
       "    </tr>\n",
       "  </tbody>\n",
       "</table>\n",
       "</div>"
      ],
      "text/plain": [
       "   H_turb_stag    L_turb  T_out_stag  c_p_gas  eta_turb_stag  k_gas  \\\n",
       "0     332000.0  296000.0       845.0   1147.2         0.9172  1.334   \n",
       "\n",
       "   pi_turb_stag  \n",
       "0         3.367  "
      ]
     },
     "execution_count": 113,
     "metadata": {},
     "output_type": "execute_result"
    }
   ],
   "source": [
    "my_engine_cycle = load('cycle_calculation\\cycle_calculation_results')\n",
    "my_engine_cycle.power_turbine.output.output_frame.round({'H_turb_stag': -3, 'L_turb': -3, 'T_out_stag': 0, 'c_p_gas': 1, \n",
    "                                                        'eta_turb_stag': 4, 'k_gas': 3, 'pi_turb_stag': 3})"
   ]
  },
  {
   "cell_type": "markdown",
   "metadata": {},
   "source": [
    "### Задание исходных параметров для расчета турбины"
   ]
  },
  {
   "cell_type": "code",
   "execution_count": 114,
   "metadata": {
    "collapsed": true
   },
   "outputs": [],
   "source": [
    "deg = np.pi / 180\n",
    "power_turbine = Turbine(TurbineType.Power, gamma_av=0 * deg, gamma_sum=10*deg)"
   ]
  },
  {
   "cell_type": "code",
   "execution_count": 115,
   "metadata": {
    "collapsed": false
   },
   "outputs": [],
   "source": [
    "power_turbine.G_turbine = my_engine_cycle.combustion_chamber.output.g_gas[0] * my_engine_cycle.G_air[0]\n",
    "power_turbine.stage_number = 2\n",
    "power_turbine.H_t_stag_cycle = my_engine_cycle.power_turbine.output.H_turb_stag[0]\n",
    "power_turbine.eta_t_stag_cycle = my_engine_cycle.power_turbine.output.eta_turb_stag[0]\n",
    "power_turbine.n_rel = 0.9\n",
    "power_turbine.sigma_l = 200e6\n",
    "power_turbine.p_g_stag = my_engine_cycle.power_turbine.input.p_in_stag[0]\n",
    "power_turbine.T_g_stag = my_engine_cycle.power_turbine.input.T_in_stag[0]\n",
    "power_turbine.p_t_stag_cycle = my_engine_cycle.power_turbine.input.p_out_stag[0]\n",
    "power_turbine.T_t_stag_cycle = my_engine_cycle.power_turbine.output.T_out_stag[0]\n",
    "power_turbine.alpha_air = my_engine_cycle.combustion_chamber.output.alpha[0]\n",
    "power_turbine.L_t_cycle = my_engine_cycle.power_turbine.output.L_turb[0]\n",
    "power_turbine.l1_D1_ratio = 1 / 3.5\n",
    "power_turbine.H01_init = 0.7 * my_engine_cycle.power_turbine.output.H_turb_stag[0]\n",
    "power_turbine.c21_init = 200\n",
    "power_turbine.alpha11 = 18 * deg\n"
   ]
  },
  {
   "cell_type": "code",
   "execution_count": 116,
   "metadata": {
    "collapsed": true
   },
   "outputs": [],
   "source": [
    "power_turbine.geom[0].delta_a_b_sa_ratio = 0.22\n",
    "power_turbine.geom[0].delta_a_b_rk_ratio = 0.22\n",
    "power_turbine.geom[0].l1_b_sa_ratio = 2.1\n",
    "power_turbine.geom[0].l2_b_rk_ratio = 1.9\n",
    "power_turbine.geom[1].delta_a_b_sa_ratio = 0.22\n",
    "power_turbine.geom[1].delta_a_b_rk_ratio = 0.22\n",
    "power_turbine.geom[1].l1_b_sa_ratio = 2.3\n",
    "power_turbine.geom[1].l2_b_rk_ratio = 2.1"
   ]
  },
  {
   "cell_type": "markdown",
   "metadata": {},
   "source": [
    "### Результаты расчета"
   ]
  },
  {
   "cell_type": "code",
   "execution_count": 117,
   "metadata": {
    "collapsed": false
   },
   "outputs": [
    {
     "data": {
      "image/png": "[encoded data removed]",
      "text/plain": [
       "<matplotlib.figure.Figure at 0x1c57dd4b080>"
      ]
     },
     "metadata": {},
     "output_type": "display_data"
    }
   ],
   "source": [
    "power_turbine.compute_geometry()\n",
    "power_turbine.set_rho()\n",
    "power_turbine.compute_stages_gas_dynamics()\n",
    "power_turbine.compute_integrate_turbine_parameters()\n",
    "\n",
    "power_turbine.geom.plot_geometry(figsize=(6, 11))"
   ]
  },
  {
   "cell_type": "code",
   "execution_count": 118,
   "metadata": {
    "collapsed": false
   },
   "outputs": [
    {
     "data": {
      "image/png": "[encoded data removed]",
      "text/plain": [
       "<matplotlib.figure.Figure at 0x1c57f775208>"
      ]
     },
     "metadata": {},
     "output_type": "display_data"
    }
   ],
   "source": [
    "power_turbine.geom.plot_heat_drop_distribution(figsize=(5, 6))"
   ]
  },
  {
   "cell_type": "code",
   "execution_count": 119,
   "metadata": {
    "collapsed": false
   },
   "outputs": [
    {
     "data": {
      "image/png": "[encoded data removed]",
      "text/plain": [
       "<matplotlib.figure.Figure at 0x1c57f3b1320>"
      ]
     },
     "metadata": {},
     "output_type": "display_data"
    },
    {
     "data": {
      "image/png": "[encoded data removed]",
      "text/plain": [
       "<matplotlib.figure.Figure at 0x1c57f313b00>"
      ]
     },
     "metadata": {},
     "output_type": "display_data"
    }
   ],
   "source": [
    "for num, item in enumerate(turbine):\n",
    "    item.plot_velocity_triangle('Stage %s' % (num + 1), figsize=(5, 5))"
   ]
  },
  {
   "cell_type": "markdown",
   "metadata": {},
   "source": [
    "Работа турбины:"
   ]
  },
  {
   "cell_type": "code",
   "execution_count": 120,
   "metadata": {
    "collapsed": false
   },
   "outputs": [
    {
     "data": {
      "text/latex": [
       "$L_{t\\Sigma}=275000.0$"
      ],
      "text/plain": [
       "<IPython.core.display.Latex object>"
      ]
     },
     "execution_count": 120,
     "metadata": {},
     "output_type": "execute_result"
    }
   ],
   "source": [
    "Latex('$L_{t\\Sigma}=%s$' % (round(turbine.L_t_sum, -3)))"
   ]
  },
  {
   "cell_type": "markdown",
   "metadata": {},
   "source": [
    "Располагаемый теплоперепад в турбине:"
   ]
  },
  {
   "cell_type": "code",
   "execution_count": 121,
   "metadata": {
    "collapsed": false
   },
   "outputs": [
    {
     "data": {
      "text/latex": [
       "$H_t=353000.0$"
      ],
      "text/plain": [
       "<IPython.core.display.Latex object>"
      ]
     },
     "execution_count": 121,
     "metadata": {},
     "output_type": "execute_result"
    }
   ],
   "source": [
    "Latex('$H_t=%s$' % (round(turbine.H_t, -3)))"
   ]
  },
  {
   "cell_type": "markdown",
   "metadata": {},
   "source": [
    "Располагаемый теплоперепад по параметрам торможения:"
   ]
  },
  {
   "cell_type": "code",
   "execution_count": 122,
   "metadata": {
    "collapsed": false
   },
   "outputs": [
    {
     "data": {
      "text/latex": [
       "$H_t^*=309000.0$"
      ],
      "text/plain": [
       "<IPython.core.display.Latex object>"
      ]
     },
     "execution_count": 122,
     "metadata": {},
     "output_type": "execute_result"
    }
   ],
   "source": [
    "Latex('$H_t^*=%s$' % (round(turbine.H_t_stag, -3)))"
   ]
  },
  {
   "cell_type": "markdown",
   "metadata": {},
   "source": [
    "Мощностной КПД турбины:"
   ]
  },
  {
   "cell_type": "code",
   "execution_count": 123,
   "metadata": {
    "collapsed": false
   },
   "outputs": [
    {
     "data": {
      "text/latex": [
       "$\\eta_t=0.7795$"
      ],
      "text/plain": [
       "<IPython.core.display.Latex object>"
      ]
     },
     "execution_count": 123,
     "metadata": {},
     "output_type": "execute_result"
    }
   ],
   "source": [
    "Latex('$\\eta_t=%s$' % (round(turbine.eta_t, 4)))"
   ]
  },
  {
   "cell_type": "markdown",
   "metadata": {},
   "source": [
    "Лопаточный КПД турбины:"
   ]
  },
  {
   "cell_type": "code",
   "execution_count": 124,
   "metadata": {
    "collapsed": false
   },
   "outputs": [
    {
     "data": {
      "text/latex": [
       "$\\eta_l=0.9089$"
      ],
      "text/plain": [
       "<IPython.core.display.Latex object>"
      ]
     },
     "execution_count": 124,
     "metadata": {},
     "output_type": "execute_result"
    }
   ],
   "source": [
    "Latex('$\\eta_l=%s$' % (round(turbine.eta_l, 4)))"
   ]
  },
  {
   "cell_type": "markdown",
   "metadata": {},
   "source": [
    "КПД турбины по параметрам торможения:"
   ]
  },
  {
   "cell_type": "code",
   "execution_count": 125,
   "metadata": {
    "collapsed": false
   },
   "outputs": [
    {
     "data": {
      "text/latex": [
       "$\\eta_t^*=0.8905$"
      ],
      "text/plain": [
       "<IPython.core.display.Latex object>"
      ]
     },
     "execution_count": 125,
     "metadata": {},
     "output_type": "execute_result"
    }
   ],
   "source": [
    "Latex('$\\eta_t^*=%s$' % (round(turbine.eta_t_stag, 4)))"
   ]
  },
  {
   "cell_type": "markdown",
   "metadata": {},
   "source": [
    "Мощность турбины:"
   ]
  },
  {
   "cell_type": "code",
   "execution_count": 126,
   "metadata": {
    "collapsed": false
   },
   "outputs": [
    {
     "data": {
      "text/latex": [
       "$N=1950000.0$"
      ],
      "text/plain": [
       "<IPython.core.display.Latex object>"
      ]
     },
     "execution_count": 126,
     "metadata": {},
     "output_type": "execute_result"
    }
   ],
   "source": [
    "Latex('$N=%s$' % (round(turbine.N, -4)))"
   ]
  }
 ],
 "metadata": {
  "kernelspec": {
   "display_name": "Python 3",
   "language": "python",
   "name": "python3"
  },
  "language_info": {
   "codemirror_mode": {
    "name": "ipython",
    "version": 3
   },
   "file_extension": ".py",
   "mimetype": "text/x-python",
   "name": "python",
   "nbconvert_exporter": "python",
   "pygments_lexer": "ipython3",
   "version": "3.5.1"
  }
 },
 "nbformat": 4,
 "nbformat_minor": 0
}
