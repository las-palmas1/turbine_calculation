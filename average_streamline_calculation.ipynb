{
 "cells": [
  {
   "cell_type": "code",
   "execution_count": 21,
   "metadata": {
    "collapsed": false
   },
   "outputs": [],
   "source": [
    "from cycle_calculation.gas_turbine_engines import TV7_117\n",
    "from IPython.display import Latex\n",
    "from average_streamline_calculation.turbine import Turbine, TurbineType, StageGeomAndHeatDrop, TurbineGeomAndHeatDropDistribution \n",
    "import os\n",
    "import numpy as np\n",
    "import pickle as pk\n",
    "%matplotlib inline"
   ]
  },
  {
   "cell_type": "code",
   "execution_count": 22,
   "metadata": {
    "collapsed": true
   },
   "outputs": [],
   "source": [
    "def load(filename) -> TV7_117:\n",
    "    file = open(filename, 'rb')\n",
    "    result = pk.load(file)\n",
    "    file.close()\n",
    "    return result"
   ]
  },
  {
   "cell_type": "markdown",
   "metadata": {},
   "source": [
    "Загрузка результатов расчета цикла:"
   ]
  },
  {
   "cell_type": "code",
   "execution_count": 23,
   "metadata": {
    "collapsed": false
   },
   "outputs": [
    {
     "data": {
      "text/html": [
       "<div>\n",
       "<table border=\"1\" class=\"dataframe\">\n",
       "  <thead>\n",
       "    <tr style=\"text-align: right;\">\n",
       "      <th></th>\n",
       "      <th>H_turb_stag</th>\n",
       "      <th>L_turb</th>\n",
       "      <th>T_out_stag</th>\n",
       "      <th>c_p_gas</th>\n",
       "      <th>eta_turb_stag</th>\n",
       "      <th>k_gas</th>\n",
       "      <th>pi_turb_stag</th>\n",
       "    </tr>\n",
       "  </thead>\n",
       "  <tbody>\n",
       "    <tr>\n",
       "      <th>0</th>\n",
       "      <td>332000.0</td>\n",
       "      <td>296000.0</td>\n",
       "      <td>845.0</td>\n",
       "      <td>1147.2</td>\n",
       "      <td>0.9172</td>\n",
       "      <td>1.334</td>\n",
       "      <td>3.367</td>\n",
       "    </tr>\n",
       "  </tbody>\n",
       "</table>\n",
       "</div>"
      ],
      "text/plain": [
       "   H_turb_stag    L_turb  T_out_stag  c_p_gas  eta_turb_stag  k_gas  \\\n",
       "0     332000.0  296000.0       845.0   1147.2         0.9172  1.334   \n",
       "\n",
       "   pi_turb_stag  \n",
       "0         3.367  "
      ]
     },
     "execution_count": 23,
     "metadata": {},
     "output_type": "execute_result"
    }
   ],
   "source": [
    "my_engine_cycle = load('cycle_calculation\\cycle_calculation_results')\n",
    "my_engine_cycle.power_turbine.output.output_frame.round({'H_turb_stag': -3, 'L_turb': -3, 'T_out_stag': 0, 'c_p_gas': 1, \n",
    "                                                        'eta_turb_stag': 4, 'k_gas': 3, 'pi_turb_stag': 3})"
   ]
  },
  {
   "cell_type": "markdown",
   "metadata": {},
   "source": [
    "### Задание исходных параметров для расчета турбины"
   ]
  },
  {
   "cell_type": "code",
   "execution_count": 24,
   "metadata": {
    "collapsed": false
   },
   "outputs": [],
   "source": [
    "deg = np.pi / 180\n",
    "power_turbine = Turbine(TurbineType.Power, gamma_in=8 * deg, gamma_out=13.2*deg)"
   ]
  },
  {
   "cell_type": "code",
   "execution_count": 25,
   "metadata": {
    "collapsed": false
   },
   "outputs": [],
   "source": [
    "power_turbine.G_turbine = my_engine_cycle.combustion_chamber.output.g_gas[0] * my_engine_cycle.G_air[0]\n",
    "power_turbine.stage_number = 2\n",
    "power_turbine.H_t_stag_cycle = my_engine_cycle.power_turbine.output.H_turb_stag[0]\n",
    "power_turbine.eta_t_stag_cycle = my_engine_cycle.power_turbine.output.eta_turb_stag[0]\n",
    "power_turbine.n = 18e3\n",
    "power_turbine.p_g_stag = my_engine_cycle.power_turbine.input.p_in_stag[0]\n",
    "power_turbine.T_g_stag = my_engine_cycle.power_turbine.input.T_in_stag[0]\n",
    "power_turbine.p_t_stag_cycle = my_engine_cycle.power_turbine.input.p_out_stag[0]\n",
    "power_turbine.T_t_stag_cycle = my_engine_cycle.power_turbine.output.T_out_stag[0]\n",
    "power_turbine.alpha_air = my_engine_cycle.combustion_chamber.output.alpha[0]\n",
    "power_turbine.L_t_cycle = my_engine_cycle.power_turbine.output.L_turb[0]\n",
    "# power_turbine.l1_D1_ratio = 0.285\n",
    "power_turbine.l1_D1_ratio = 0.20\n",
    "power_turbine.H01_init = 180e3\n",
    "power_turbine.c21_init = 200\n",
    "power_turbine.alpha11 = 17 * deg\n",
    "power_turbine.rho1 = 0.1"
   ]
  },
  {
   "cell_type": "code",
   "execution_count": 26,
   "metadata": {
    "collapsed": false
   },
   "outputs": [],
   "source": [
    "power_turbine.geom[0].delta_a_b_sa_ratio = 7 / 27\n",
    "power_turbine.geom[0].delta_a_b_rk_ratio = 10 / 15\n",
    "power_turbine.geom[0].l1_b_sa_ratio = 55 / 27\n",
    "power_turbine.geom[0].l2_b_rk_ratio = 60 / 15\n",
    "power_turbine.geom[1].delta_a_b_sa_ratio = 8 / 30\n",
    "power_turbine.geom[1].delta_a_b_rk_ratio = 11 / 18\n",
    "power_turbine.geom[1].l1_b_sa_ratio = 80 / 30\n",
    "power_turbine.geom[1].l2_b_rk_ratio = 93 / 18"
   ]
  },
  {
   "cell_type": "markdown",
   "metadata": {},
   "source": [
    "### Результаты расчета"
   ]
  },
  {
   "cell_type": "code",
   "execution_count": 27,
   "metadata": {
    "collapsed": false
   },
   "outputs": [
    {
     "data": {
      "image/png": "[encoded data removed]",
      "text/plain": [
       "<matplotlib.figure.Figure at 0x99b9710>"
      ]
     },
     "metadata": {},
     "output_type": "display_data"
    }
   ],
   "source": [
    "power_turbine.compute_geometry(compute_heat_drop_auto=False)\n",
    "power_turbine.geom[0].H0 = 180e3\n",
    "power_turbine.geom[1].H0 = 20e3\n",
    "power_turbine.geom[0].rho = 0.3\n",
    "power_turbine.geom[1].rho = 0.3\n",
    "power_turbine.compute_stages_gas_dynamics(precise_heat_drop=False)\n",
    "power_turbine.compute_integrate_turbine_parameters()\n",
    "st1 = power_turbine[0]\n",
    "st2 = power_turbine[1]\n",
    "power_turbine.save()\n",
    "power_turbine.geom.plot_geometry(figsize=(6, 11))"
   ]
  },
  {
   "cell_type": "code",
   "execution_count": 28,
   "metadata": {
    "collapsed": false
   },
   "outputs": [
    {
     "data": {
      "image/png": "[encoded data removed]",
      "text/plain": [
       "<matplotlib.figure.Figure at 0xb414438>"
      ]
     },
     "metadata": {},
     "output_type": "display_data"
    }
   ],
   "source": [
    "power_turbine.geom.plot_heat_drop_distribution(figsize=(5, 6))"
   ]
  },
  {
   "cell_type": "code",
   "execution_count": 29,
   "metadata": {
    "collapsed": false
   },
   "outputs": [
    {
     "data": {
      "image/png": "[encoded data removed]",
      "text/plain": [
       "<matplotlib.figure.Figure at 0xb357160>"
      ]
     },
     "metadata": {},
     "output_type": "display_data"
    },
    {
     "data": {
      "image/png": "[encoded data removed]",
      "text/plain": [
       "<matplotlib.figure.Figure at 0xaddbc18>"
      ]
     },
     "metadata": {},
     "output_type": "display_data"
    }
   ],
   "source": [
    "for num, item in enumerate(power_turbine):\n",
    "    item.plot_velocity_triangle('Stage %s' % (num + 1), figsize=(5, 5))"
   ]
  },
  {
   "cell_type": "markdown",
   "metadata": {},
   "source": [
    "Работа турбины:"
   ]
  },
  {
   "cell_type": "code",
   "execution_count": 30,
   "metadata": {
    "collapsed": false
   },
   "outputs": [
    {
     "data": {
      "text/latex": [
       "$L_{t\\Sigma}=300000.0$"
      ],
      "text/plain": [
       "<IPython.core.display.Latex object>"
      ]
     },
     "execution_count": 30,
     "metadata": {},
     "output_type": "execute_result"
    }
   ],
   "source": [
    "Latex('$L_{t\\Sigma}=%s$' % (round(power_turbine.L_t_sum, -3)))"
   ]
  },
  {
   "cell_type": "markdown",
   "metadata": {},
   "source": [
    "Располагаемый теплоперепад в турбине:"
   ]
  },
  {
   "cell_type": "code",
   "execution_count": 31,
   "metadata": {
    "collapsed": false
   },
   "outputs": [
    {
     "data": {
      "text/latex": [
       "$H_t=346000.0$"
      ],
      "text/plain": [
       "<IPython.core.display.Latex object>"
      ]
     },
     "execution_count": 31,
     "metadata": {},
     "output_type": "execute_result"
    }
   ],
   "source": [
    "Latex('$H_t=%s$' % (round(power_turbine.H_t, -3)))"
   ]
  },
  {
   "cell_type": "markdown",
   "metadata": {},
   "source": [
    "Располагаемый теплоперепад по параметрам торможения:"
   ]
  },
  {
   "cell_type": "code",
   "execution_count": 32,
   "metadata": {
    "collapsed": false
   },
   "outputs": [
    {
     "data": {
      "text/latex": [
       "$H_t^*=330000.0$"
      ],
      "text/plain": [
       "<IPython.core.display.Latex object>"
      ]
     },
     "execution_count": 32,
     "metadata": {},
     "output_type": "execute_result"
    }
   ],
   "source": [
    "Latex('$H_t^*=%s$' % (round(power_turbine.H_t_stag, -3)))"
   ]
  },
  {
   "cell_type": "markdown",
   "metadata": {},
   "source": [
    "Мощностной КПД турбины:"
   ]
  },
  {
   "cell_type": "code",
   "execution_count": 33,
   "metadata": {
    "collapsed": false
   },
   "outputs": [
    {
     "data": {
      "text/latex": [
       "$\\eta_t=0.8675$"
      ],
      "text/plain": [
       "<IPython.core.display.Latex object>"
      ]
     },
     "execution_count": 33,
     "metadata": {},
     "output_type": "execute_result"
    }
   ],
   "source": [
    "Latex('$\\eta_t=%.4f$' % power_turbine.eta_t)"
   ]
  },
  {
   "cell_type": "markdown",
   "metadata": {},
   "source": [
    "Лопаточный КПД турбины:"
   ]
  },
  {
   "cell_type": "code",
   "execution_count": 34,
   "metadata": {
    "collapsed": false
   },
   "outputs": [
    {
     "data": {
      "text/latex": [
       "$\\eta_l=0.9164$"
      ],
      "text/plain": [
       "<IPython.core.display.Latex object>"
      ]
     },
     "execution_count": 34,
     "metadata": {},
     "output_type": "execute_result"
    }
   ],
   "source": [
    "Latex('$\\eta_l=%.4f$' % power_turbine.eta_l)"
   ]
  },
  {
   "cell_type": "markdown",
   "metadata": {},
   "source": [
    "КПД турбины по параметрам торможения:"
   ]
  },
  {
   "cell_type": "code",
   "execution_count": 35,
   "metadata": {
    "collapsed": false
   },
   "outputs": [
    {
     "data": {
      "text/latex": [
       "$\\eta_t^*=0.9105$"
      ],
      "text/plain": [
       "<IPython.core.display.Latex object>"
      ]
     },
     "execution_count": 35,
     "metadata": {},
     "output_type": "execute_result"
    }
   ],
   "source": [
    "Latex('$\\eta_t^*=%.4f$' % (power_turbine.eta_t_stag))"
   ]
  },
  {
   "cell_type": "markdown",
   "metadata": {},
   "source": [
    "Мощность турбины:"
   ]
  },
  {
   "cell_type": "code",
   "execution_count": 36,
   "metadata": {
    "collapsed": false
   },
   "outputs": [
    {
     "data": {
      "text/latex": [
       "$N=2128.4\\ КВт$"
      ],
      "text/plain": [
       "<IPython.core.display.Latex object>"
      ]
     },
     "execution_count": 36,
     "metadata": {},
     "output_type": "execute_result"
    }
   ],
   "source": [
    "Latex('$N=%.1f\\ КВт$' % (power_turbine.N / 1e3))"
   ]
  },
  {
   "cell_type": "code",
   "execution_count": 37,
   "metadata": {
    "collapsed": false
   },
   "outputs": [
    {
     "data": {
      "text/latex": [
       "$\\alpha_{21} = 70.07$"
      ],
      "text/plain": [
       "<IPython.core.display.Latex object>"
      ]
     },
     "execution_count": 37,
     "metadata": {},
     "output_type": "execute_result"
    }
   ],
   "source": [
    "Latex(r'$\\alpha_{21} = %.2f$' % np.degrees(st1.alpha2))"
   ]
  },
  {
   "cell_type": "code",
   "execution_count": 38,
   "metadata": {
    "collapsed": false
   },
   "outputs": [
    {
     "data": {
      "text/latex": [
       "$\\alpha_{22} = 76.96$"
      ],
      "text/plain": [
       "<IPython.core.display.Latex object>"
      ]
     },
     "execution_count": 38,
     "metadata": {},
     "output_type": "execute_result"
    }
   ],
   "source": [
    "Latex(r'$\\alpha_{22} = %.2f$' % np.degrees(st2.alpha2))"
   ]
  },
  {
   "cell_type": "code",
   "execution_count": 39,
   "metadata": {
    "collapsed": false
   },
   "outputs": [
    {
     "data": {
      "text/latex": [
       "$n=18000.00$"
      ],
      "text/plain": [
       "<IPython.core.display.Latex object>"
      ]
     },
     "execution_count": 39,
     "metadata": {},
     "output_type": "execute_result"
    }
   ],
   "source": [
    "Latex(r'$n=%.2f$' % st2.n)"
   ]
  },
  {
   "cell_type": "code",
   "execution_count": 40,
   "metadata": {
    "collapsed": false
   },
   "outputs": [
    {
     "data": {
      "text/latex": [
       "$\\sigma_l= 218.3\\ МПа$"
      ],
      "text/plain": [
       "<IPython.core.display.Latex object>"
      ]
     },
     "execution_count": 40,
     "metadata": {},
     "output_type": "execute_result"
    }
   ],
   "source": [
    "Latex(r'$\\sigma_l= %.1f\\ МПа$' % (power_turbine.geom.sigma_l / 1e6))"
   ]
  }
 ],
 "metadata": {
  "kernelspec": {
   "display_name": "Python 3",
   "language": "python",
   "name": "python3"
  },
  "language_info": {
   "codemirror_mode": {
    "name": "ipython",
    "version": 3
   },
   "file_extension": ".py",
   "mimetype": "text/x-python",
   "name": "python",
   "nbconvert_exporter": "python",
   "pygments_lexer": "ipython3",
   "version": "3.5.1"
  }
 },
 "nbformat": 4,
 "nbformat_minor": 0
}
